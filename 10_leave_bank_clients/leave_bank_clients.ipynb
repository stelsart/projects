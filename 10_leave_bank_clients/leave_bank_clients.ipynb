{
 "cells": [
  {
   "cell_type": "markdown",
   "metadata": {},
   "source": [
    "# Отток клиентов банка"
   ]
  },
  {
   "cell_type": "markdown",
   "metadata": {},
   "source": [
    "## Подготовка данных"
   ]
  },
  {
   "cell_type": "code",
   "execution_count": 1,
   "metadata": {},
   "outputs": [],
   "source": [
    "import pandas as pd\n",
    "import numpy as np\n",
    "from sklearn.preprocessing import OneHotEncoder\n",
    "from sklearn.model_selection import train_test_split\n",
    "from sklearn.linear_model import LogisticRegression\n",
    "from sklearn.ensemble import RandomForestClassifier\n",
    "from sklearn.tree import DecisionTreeClassifier\n",
    "from sklearn.metrics import f1_score, roc_auc_score\n",
    "from sklearn.utils import shuffle"
   ]
  },
  {
   "cell_type": "code",
   "execution_count": 2,
   "metadata": {},
   "outputs": [],
   "source": [
    "try:\n",
    "    data = pd.read_csv('/datasets/Churn.csv')\n",
    "except: \n",
    "    data = pd.read_csv('C:/documents/datasets/Churn.csv')"
   ]
  },
  {
   "cell_type": "code",
   "execution_count": 3,
   "metadata": {},
   "outputs": [
    {
     "data": {
      "text/html": [
       "<div>\n",
       "<style scoped>\n",
       "    .dataframe tbody tr th:only-of-type {\n",
       "        vertical-align: middle;\n",
       "    }\n",
       "\n",
       "    .dataframe tbody tr th {\n",
       "        vertical-align: top;\n",
       "    }\n",
       "\n",
       "    .dataframe thead th {\n",
       "        text-align: right;\n",
       "    }\n",
       "</style>\n",
       "<table border=\"1\" class=\"dataframe\">\n",
       "  <thead>\n",
       "    <tr style=\"text-align: right;\">\n",
       "      <th></th>\n",
       "      <th>RowNumber</th>\n",
       "      <th>CustomerId</th>\n",
       "      <th>Surname</th>\n",
       "      <th>CreditScore</th>\n",
       "      <th>Geography</th>\n",
       "      <th>Gender</th>\n",
       "      <th>Age</th>\n",
       "      <th>Tenure</th>\n",
       "      <th>Balance</th>\n",
       "      <th>NumOfProducts</th>\n",
       "      <th>HasCrCard</th>\n",
       "      <th>IsActiveMember</th>\n",
       "      <th>EstimatedSalary</th>\n",
       "      <th>Exited</th>\n",
       "    </tr>\n",
       "  </thead>\n",
       "  <tbody>\n",
       "    <tr>\n",
       "      <th>0</th>\n",
       "      <td>1</td>\n",
       "      <td>15634602</td>\n",
       "      <td>Hargrave</td>\n",
       "      <td>619</td>\n",
       "      <td>France</td>\n",
       "      <td>Female</td>\n",
       "      <td>42</td>\n",
       "      <td>2.0</td>\n",
       "      <td>0.00</td>\n",
       "      <td>1</td>\n",
       "      <td>1</td>\n",
       "      <td>1</td>\n",
       "      <td>101348.88</td>\n",
       "      <td>1</td>\n",
       "    </tr>\n",
       "    <tr>\n",
       "      <th>1</th>\n",
       "      <td>2</td>\n",
       "      <td>15647311</td>\n",
       "      <td>Hill</td>\n",
       "      <td>608</td>\n",
       "      <td>Spain</td>\n",
       "      <td>Female</td>\n",
       "      <td>41</td>\n",
       "      <td>1.0</td>\n",
       "      <td>83807.86</td>\n",
       "      <td>1</td>\n",
       "      <td>0</td>\n",
       "      <td>1</td>\n",
       "      <td>112542.58</td>\n",
       "      <td>0</td>\n",
       "    </tr>\n",
       "    <tr>\n",
       "      <th>2</th>\n",
       "      <td>3</td>\n",
       "      <td>15619304</td>\n",
       "      <td>Onio</td>\n",
       "      <td>502</td>\n",
       "      <td>France</td>\n",
       "      <td>Female</td>\n",
       "      <td>42</td>\n",
       "      <td>8.0</td>\n",
       "      <td>159660.80</td>\n",
       "      <td>3</td>\n",
       "      <td>1</td>\n",
       "      <td>0</td>\n",
       "      <td>113931.57</td>\n",
       "      <td>1</td>\n",
       "    </tr>\n",
       "    <tr>\n",
       "      <th>3</th>\n",
       "      <td>4</td>\n",
       "      <td>15701354</td>\n",
       "      <td>Boni</td>\n",
       "      <td>699</td>\n",
       "      <td>France</td>\n",
       "      <td>Female</td>\n",
       "      <td>39</td>\n",
       "      <td>1.0</td>\n",
       "      <td>0.00</td>\n",
       "      <td>2</td>\n",
       "      <td>0</td>\n",
       "      <td>0</td>\n",
       "      <td>93826.63</td>\n",
       "      <td>0</td>\n",
       "    </tr>\n",
       "    <tr>\n",
       "      <th>4</th>\n",
       "      <td>5</td>\n",
       "      <td>15737888</td>\n",
       "      <td>Mitchell</td>\n",
       "      <td>850</td>\n",
       "      <td>Spain</td>\n",
       "      <td>Female</td>\n",
       "      <td>43</td>\n",
       "      <td>2.0</td>\n",
       "      <td>125510.82</td>\n",
       "      <td>1</td>\n",
       "      <td>1</td>\n",
       "      <td>1</td>\n",
       "      <td>79084.10</td>\n",
       "      <td>0</td>\n",
       "    </tr>\n",
       "    <tr>\n",
       "      <th>...</th>\n",
       "      <td>...</td>\n",
       "      <td>...</td>\n",
       "      <td>...</td>\n",
       "      <td>...</td>\n",
       "      <td>...</td>\n",
       "      <td>...</td>\n",
       "      <td>...</td>\n",
       "      <td>...</td>\n",
       "      <td>...</td>\n",
       "      <td>...</td>\n",
       "      <td>...</td>\n",
       "      <td>...</td>\n",
       "      <td>...</td>\n",
       "      <td>...</td>\n",
       "    </tr>\n",
       "    <tr>\n",
       "      <th>9995</th>\n",
       "      <td>9996</td>\n",
       "      <td>15606229</td>\n",
       "      <td>Obijiaku</td>\n",
       "      <td>771</td>\n",
       "      <td>France</td>\n",
       "      <td>Male</td>\n",
       "      <td>39</td>\n",
       "      <td>5.0</td>\n",
       "      <td>0.00</td>\n",
       "      <td>2</td>\n",
       "      <td>1</td>\n",
       "      <td>0</td>\n",
       "      <td>96270.64</td>\n",
       "      <td>0</td>\n",
       "    </tr>\n",
       "    <tr>\n",
       "      <th>9996</th>\n",
       "      <td>9997</td>\n",
       "      <td>15569892</td>\n",
       "      <td>Johnstone</td>\n",
       "      <td>516</td>\n",
       "      <td>France</td>\n",
       "      <td>Male</td>\n",
       "      <td>35</td>\n",
       "      <td>10.0</td>\n",
       "      <td>57369.61</td>\n",
       "      <td>1</td>\n",
       "      <td>1</td>\n",
       "      <td>1</td>\n",
       "      <td>101699.77</td>\n",
       "      <td>0</td>\n",
       "    </tr>\n",
       "    <tr>\n",
       "      <th>9997</th>\n",
       "      <td>9998</td>\n",
       "      <td>15584532</td>\n",
       "      <td>Liu</td>\n",
       "      <td>709</td>\n",
       "      <td>France</td>\n",
       "      <td>Female</td>\n",
       "      <td>36</td>\n",
       "      <td>7.0</td>\n",
       "      <td>0.00</td>\n",
       "      <td>1</td>\n",
       "      <td>0</td>\n",
       "      <td>1</td>\n",
       "      <td>42085.58</td>\n",
       "      <td>1</td>\n",
       "    </tr>\n",
       "    <tr>\n",
       "      <th>9998</th>\n",
       "      <td>9999</td>\n",
       "      <td>15682355</td>\n",
       "      <td>Sabbatini</td>\n",
       "      <td>772</td>\n",
       "      <td>Germany</td>\n",
       "      <td>Male</td>\n",
       "      <td>42</td>\n",
       "      <td>3.0</td>\n",
       "      <td>75075.31</td>\n",
       "      <td>2</td>\n",
       "      <td>1</td>\n",
       "      <td>0</td>\n",
       "      <td>92888.52</td>\n",
       "      <td>1</td>\n",
       "    </tr>\n",
       "    <tr>\n",
       "      <th>9999</th>\n",
       "      <td>10000</td>\n",
       "      <td>15628319</td>\n",
       "      <td>Walker</td>\n",
       "      <td>792</td>\n",
       "      <td>France</td>\n",
       "      <td>Female</td>\n",
       "      <td>28</td>\n",
       "      <td>NaN</td>\n",
       "      <td>130142.79</td>\n",
       "      <td>1</td>\n",
       "      <td>1</td>\n",
       "      <td>0</td>\n",
       "      <td>38190.78</td>\n",
       "      <td>0</td>\n",
       "    </tr>\n",
       "  </tbody>\n",
       "</table>\n",
       "<p>10000 rows × 14 columns</p>\n",
       "</div>"
      ],
      "text/plain": [
       "      RowNumber  CustomerId    Surname  CreditScore Geography  Gender  Age  \\\n",
       "0             1    15634602   Hargrave          619    France  Female   42   \n",
       "1             2    15647311       Hill          608     Spain  Female   41   \n",
       "2             3    15619304       Onio          502    France  Female   42   \n",
       "3             4    15701354       Boni          699    France  Female   39   \n",
       "4             5    15737888   Mitchell          850     Spain  Female   43   \n",
       "...         ...         ...        ...          ...       ...     ...  ...   \n",
       "9995       9996    15606229   Obijiaku          771    France    Male   39   \n",
       "9996       9997    15569892  Johnstone          516    France    Male   35   \n",
       "9997       9998    15584532        Liu          709    France  Female   36   \n",
       "9998       9999    15682355  Sabbatini          772   Germany    Male   42   \n",
       "9999      10000    15628319     Walker          792    France  Female   28   \n",
       "\n",
       "      Tenure    Balance  NumOfProducts  HasCrCard  IsActiveMember  \\\n",
       "0        2.0       0.00              1          1               1   \n",
       "1        1.0   83807.86              1          0               1   \n",
       "2        8.0  159660.80              3          1               0   \n",
       "3        1.0       0.00              2          0               0   \n",
       "4        2.0  125510.82              1          1               1   \n",
       "...      ...        ...            ...        ...             ...   \n",
       "9995     5.0       0.00              2          1               0   \n",
       "9996    10.0   57369.61              1          1               1   \n",
       "9997     7.0       0.00              1          0               1   \n",
       "9998     3.0   75075.31              2          1               0   \n",
       "9999     NaN  130142.79              1          1               0   \n",
       "\n",
       "      EstimatedSalary  Exited  \n",
       "0           101348.88       1  \n",
       "1           112542.58       0  \n",
       "2           113931.57       1  \n",
       "3            93826.63       0  \n",
       "4            79084.10       0  \n",
       "...               ...     ...  \n",
       "9995         96270.64       0  \n",
       "9996        101699.77       0  \n",
       "9997         42085.58       1  \n",
       "9998         92888.52       1  \n",
       "9999         38190.78       0  \n",
       "\n",
       "[10000 rows x 14 columns]"
      ]
     },
     "metadata": {},
     "output_type": "display_data"
    },
    {
     "name": "stdout",
     "output_type": "stream",
     "text": [
      "<class 'pandas.core.frame.DataFrame'>\n",
      "RangeIndex: 10000 entries, 0 to 9999\n",
      "Data columns (total 14 columns):\n",
      " #   Column           Non-Null Count  Dtype  \n",
      "---  ------           --------------  -----  \n",
      " 0   RowNumber        10000 non-null  int64  \n",
      " 1   CustomerId       10000 non-null  int64  \n",
      " 2   Surname          10000 non-null  object \n",
      " 3   CreditScore      10000 non-null  int64  \n",
      " 4   Geography        10000 non-null  object \n",
      " 5   Gender           10000 non-null  object \n",
      " 6   Age              10000 non-null  int64  \n",
      " 7   Tenure           9091 non-null   float64\n",
      " 8   Balance          10000 non-null  float64\n",
      " 9   NumOfProducts    10000 non-null  int64  \n",
      " 10  HasCrCard        10000 non-null  int64  \n",
      " 11  IsActiveMember   10000 non-null  int64  \n",
      " 12  EstimatedSalary  10000 non-null  float64\n",
      " 13  Exited           10000 non-null  int64  \n",
      "dtypes: float64(3), int64(8), object(3)\n",
      "memory usage: 1.1+ MB\n"
     ]
    },
    {
     "data": {
      "text/plain": [
       "None"
      ]
     },
     "metadata": {},
     "output_type": "display_data"
    },
    {
     "data": {
      "text/html": [
       "<div>\n",
       "<style scoped>\n",
       "    .dataframe tbody tr th:only-of-type {\n",
       "        vertical-align: middle;\n",
       "    }\n",
       "\n",
       "    .dataframe tbody tr th {\n",
       "        vertical-align: top;\n",
       "    }\n",
       "\n",
       "    .dataframe thead th {\n",
       "        text-align: right;\n",
       "    }\n",
       "</style>\n",
       "<table border=\"1\" class=\"dataframe\">\n",
       "  <thead>\n",
       "    <tr style=\"text-align: right;\">\n",
       "      <th></th>\n",
       "      <th>RowNumber</th>\n",
       "      <th>CustomerId</th>\n",
       "      <th>CreditScore</th>\n",
       "      <th>Age</th>\n",
       "      <th>Tenure</th>\n",
       "      <th>Balance</th>\n",
       "      <th>NumOfProducts</th>\n",
       "      <th>HasCrCard</th>\n",
       "      <th>IsActiveMember</th>\n",
       "      <th>EstimatedSalary</th>\n",
       "      <th>Exited</th>\n",
       "    </tr>\n",
       "  </thead>\n",
       "  <tbody>\n",
       "    <tr>\n",
       "      <th>count</th>\n",
       "      <td>10000.00000</td>\n",
       "      <td>1.000000e+04</td>\n",
       "      <td>10000.000000</td>\n",
       "      <td>10000.000000</td>\n",
       "      <td>9091.000000</td>\n",
       "      <td>10000.000000</td>\n",
       "      <td>10000.000000</td>\n",
       "      <td>10000.00000</td>\n",
       "      <td>10000.000000</td>\n",
       "      <td>10000.000000</td>\n",
       "      <td>10000.000000</td>\n",
       "    </tr>\n",
       "    <tr>\n",
       "      <th>mean</th>\n",
       "      <td>5000.50000</td>\n",
       "      <td>1.569094e+07</td>\n",
       "      <td>650.528800</td>\n",
       "      <td>38.921800</td>\n",
       "      <td>4.997690</td>\n",
       "      <td>76485.889288</td>\n",
       "      <td>1.530200</td>\n",
       "      <td>0.70550</td>\n",
       "      <td>0.515100</td>\n",
       "      <td>100090.239881</td>\n",
       "      <td>0.203700</td>\n",
       "    </tr>\n",
       "    <tr>\n",
       "      <th>std</th>\n",
       "      <td>2886.89568</td>\n",
       "      <td>7.193619e+04</td>\n",
       "      <td>96.653299</td>\n",
       "      <td>10.487806</td>\n",
       "      <td>2.894723</td>\n",
       "      <td>62397.405202</td>\n",
       "      <td>0.581654</td>\n",
       "      <td>0.45584</td>\n",
       "      <td>0.499797</td>\n",
       "      <td>57510.492818</td>\n",
       "      <td>0.402769</td>\n",
       "    </tr>\n",
       "    <tr>\n",
       "      <th>min</th>\n",
       "      <td>1.00000</td>\n",
       "      <td>1.556570e+07</td>\n",
       "      <td>350.000000</td>\n",
       "      <td>18.000000</td>\n",
       "      <td>0.000000</td>\n",
       "      <td>0.000000</td>\n",
       "      <td>1.000000</td>\n",
       "      <td>0.00000</td>\n",
       "      <td>0.000000</td>\n",
       "      <td>11.580000</td>\n",
       "      <td>0.000000</td>\n",
       "    </tr>\n",
       "    <tr>\n",
       "      <th>25%</th>\n",
       "      <td>2500.75000</td>\n",
       "      <td>1.562853e+07</td>\n",
       "      <td>584.000000</td>\n",
       "      <td>32.000000</td>\n",
       "      <td>2.000000</td>\n",
       "      <td>0.000000</td>\n",
       "      <td>1.000000</td>\n",
       "      <td>0.00000</td>\n",
       "      <td>0.000000</td>\n",
       "      <td>51002.110000</td>\n",
       "      <td>0.000000</td>\n",
       "    </tr>\n",
       "    <tr>\n",
       "      <th>50%</th>\n",
       "      <td>5000.50000</td>\n",
       "      <td>1.569074e+07</td>\n",
       "      <td>652.000000</td>\n",
       "      <td>37.000000</td>\n",
       "      <td>5.000000</td>\n",
       "      <td>97198.540000</td>\n",
       "      <td>1.000000</td>\n",
       "      <td>1.00000</td>\n",
       "      <td>1.000000</td>\n",
       "      <td>100193.915000</td>\n",
       "      <td>0.000000</td>\n",
       "    </tr>\n",
       "    <tr>\n",
       "      <th>75%</th>\n",
       "      <td>7500.25000</td>\n",
       "      <td>1.575323e+07</td>\n",
       "      <td>718.000000</td>\n",
       "      <td>44.000000</td>\n",
       "      <td>7.000000</td>\n",
       "      <td>127644.240000</td>\n",
       "      <td>2.000000</td>\n",
       "      <td>1.00000</td>\n",
       "      <td>1.000000</td>\n",
       "      <td>149388.247500</td>\n",
       "      <td>0.000000</td>\n",
       "    </tr>\n",
       "    <tr>\n",
       "      <th>max</th>\n",
       "      <td>10000.00000</td>\n",
       "      <td>1.581569e+07</td>\n",
       "      <td>850.000000</td>\n",
       "      <td>92.000000</td>\n",
       "      <td>10.000000</td>\n",
       "      <td>250898.090000</td>\n",
       "      <td>4.000000</td>\n",
       "      <td>1.00000</td>\n",
       "      <td>1.000000</td>\n",
       "      <td>199992.480000</td>\n",
       "      <td>1.000000</td>\n",
       "    </tr>\n",
       "  </tbody>\n",
       "</table>\n",
       "</div>"
      ],
      "text/plain": [
       "         RowNumber    CustomerId   CreditScore           Age       Tenure  \\\n",
       "count  10000.00000  1.000000e+04  10000.000000  10000.000000  9091.000000   \n",
       "mean    5000.50000  1.569094e+07    650.528800     38.921800     4.997690   \n",
       "std     2886.89568  7.193619e+04     96.653299     10.487806     2.894723   \n",
       "min        1.00000  1.556570e+07    350.000000     18.000000     0.000000   \n",
       "25%     2500.75000  1.562853e+07    584.000000     32.000000     2.000000   \n",
       "50%     5000.50000  1.569074e+07    652.000000     37.000000     5.000000   \n",
       "75%     7500.25000  1.575323e+07    718.000000     44.000000     7.000000   \n",
       "max    10000.00000  1.581569e+07    850.000000     92.000000    10.000000   \n",
       "\n",
       "             Balance  NumOfProducts    HasCrCard  IsActiveMember  \\\n",
       "count   10000.000000   10000.000000  10000.00000    10000.000000   \n",
       "mean    76485.889288       1.530200      0.70550        0.515100   \n",
       "std     62397.405202       0.581654      0.45584        0.499797   \n",
       "min         0.000000       1.000000      0.00000        0.000000   \n",
       "25%         0.000000       1.000000      0.00000        0.000000   \n",
       "50%     97198.540000       1.000000      1.00000        1.000000   \n",
       "75%    127644.240000       2.000000      1.00000        1.000000   \n",
       "max    250898.090000       4.000000      1.00000        1.000000   \n",
       "\n",
       "       EstimatedSalary        Exited  \n",
       "count     10000.000000  10000.000000  \n",
       "mean     100090.239881      0.203700  \n",
       "std       57510.492818      0.402769  \n",
       "min          11.580000      0.000000  \n",
       "25%       51002.110000      0.000000  \n",
       "50%      100193.915000      0.000000  \n",
       "75%      149388.247500      0.000000  \n",
       "max      199992.480000      1.000000  "
      ]
     },
     "metadata": {},
     "output_type": "display_data"
    }
   ],
   "source": [
    "display(data)\n",
    "display(data.info())\n",
    "display(data.describe())"
   ]
  },
  {
   "cell_type": "code",
   "execution_count": 4,
   "metadata": {},
   "outputs": [
    {
     "data": {
      "text/html": [
       "<div>\n",
       "<style scoped>\n",
       "    .dataframe tbody tr th:only-of-type {\n",
       "        vertical-align: middle;\n",
       "    }\n",
       "\n",
       "    .dataframe tbody tr th {\n",
       "        vertical-align: top;\n",
       "    }\n",
       "\n",
       "    .dataframe thead th {\n",
       "        text-align: right;\n",
       "    }\n",
       "</style>\n",
       "<table border=\"1\" class=\"dataframe\">\n",
       "  <thead>\n",
       "    <tr style=\"text-align: right;\">\n",
       "      <th></th>\n",
       "      <th>row_number</th>\n",
       "      <th>customer_id</th>\n",
       "      <th>surname</th>\n",
       "      <th>credit_score</th>\n",
       "      <th>geography</th>\n",
       "      <th>gender</th>\n",
       "      <th>age</th>\n",
       "      <th>tenure</th>\n",
       "      <th>balance</th>\n",
       "      <th>num_of_products</th>\n",
       "      <th>has_cr_card</th>\n",
       "      <th>is_active_member</th>\n",
       "      <th>estimated_salary</th>\n",
       "      <th>exited</th>\n",
       "    </tr>\n",
       "  </thead>\n",
       "  <tbody>\n",
       "    <tr>\n",
       "      <th>0</th>\n",
       "      <td>1</td>\n",
       "      <td>15634602</td>\n",
       "      <td>Hargrave</td>\n",
       "      <td>619</td>\n",
       "      <td>France</td>\n",
       "      <td>Female</td>\n",
       "      <td>42</td>\n",
       "      <td>2.0</td>\n",
       "      <td>0.00</td>\n",
       "      <td>1</td>\n",
       "      <td>1</td>\n",
       "      <td>1</td>\n",
       "      <td>101348.88</td>\n",
       "      <td>1</td>\n",
       "    </tr>\n",
       "    <tr>\n",
       "      <th>1</th>\n",
       "      <td>2</td>\n",
       "      <td>15647311</td>\n",
       "      <td>Hill</td>\n",
       "      <td>608</td>\n",
       "      <td>Spain</td>\n",
       "      <td>Female</td>\n",
       "      <td>41</td>\n",
       "      <td>1.0</td>\n",
       "      <td>83807.86</td>\n",
       "      <td>1</td>\n",
       "      <td>0</td>\n",
       "      <td>1</td>\n",
       "      <td>112542.58</td>\n",
       "      <td>0</td>\n",
       "    </tr>\n",
       "    <tr>\n",
       "      <th>2</th>\n",
       "      <td>3</td>\n",
       "      <td>15619304</td>\n",
       "      <td>Onio</td>\n",
       "      <td>502</td>\n",
       "      <td>France</td>\n",
       "      <td>Female</td>\n",
       "      <td>42</td>\n",
       "      <td>8.0</td>\n",
       "      <td>159660.80</td>\n",
       "      <td>3</td>\n",
       "      <td>1</td>\n",
       "      <td>0</td>\n",
       "      <td>113931.57</td>\n",
       "      <td>1</td>\n",
       "    </tr>\n",
       "    <tr>\n",
       "      <th>3</th>\n",
       "      <td>4</td>\n",
       "      <td>15701354</td>\n",
       "      <td>Boni</td>\n",
       "      <td>699</td>\n",
       "      <td>France</td>\n",
       "      <td>Female</td>\n",
       "      <td>39</td>\n",
       "      <td>1.0</td>\n",
       "      <td>0.00</td>\n",
       "      <td>2</td>\n",
       "      <td>0</td>\n",
       "      <td>0</td>\n",
       "      <td>93826.63</td>\n",
       "      <td>0</td>\n",
       "    </tr>\n",
       "    <tr>\n",
       "      <th>4</th>\n",
       "      <td>5</td>\n",
       "      <td>15737888</td>\n",
       "      <td>Mitchell</td>\n",
       "      <td>850</td>\n",
       "      <td>Spain</td>\n",
       "      <td>Female</td>\n",
       "      <td>43</td>\n",
       "      <td>2.0</td>\n",
       "      <td>125510.82</td>\n",
       "      <td>1</td>\n",
       "      <td>1</td>\n",
       "      <td>1</td>\n",
       "      <td>79084.10</td>\n",
       "      <td>0</td>\n",
       "    </tr>\n",
       "    <tr>\n",
       "      <th>...</th>\n",
       "      <td>...</td>\n",
       "      <td>...</td>\n",
       "      <td>...</td>\n",
       "      <td>...</td>\n",
       "      <td>...</td>\n",
       "      <td>...</td>\n",
       "      <td>...</td>\n",
       "      <td>...</td>\n",
       "      <td>...</td>\n",
       "      <td>...</td>\n",
       "      <td>...</td>\n",
       "      <td>...</td>\n",
       "      <td>...</td>\n",
       "      <td>...</td>\n",
       "    </tr>\n",
       "    <tr>\n",
       "      <th>9995</th>\n",
       "      <td>9996</td>\n",
       "      <td>15606229</td>\n",
       "      <td>Obijiaku</td>\n",
       "      <td>771</td>\n",
       "      <td>France</td>\n",
       "      <td>Male</td>\n",
       "      <td>39</td>\n",
       "      <td>5.0</td>\n",
       "      <td>0.00</td>\n",
       "      <td>2</td>\n",
       "      <td>1</td>\n",
       "      <td>0</td>\n",
       "      <td>96270.64</td>\n",
       "      <td>0</td>\n",
       "    </tr>\n",
       "    <tr>\n",
       "      <th>9996</th>\n",
       "      <td>9997</td>\n",
       "      <td>15569892</td>\n",
       "      <td>Johnstone</td>\n",
       "      <td>516</td>\n",
       "      <td>France</td>\n",
       "      <td>Male</td>\n",
       "      <td>35</td>\n",
       "      <td>10.0</td>\n",
       "      <td>57369.61</td>\n",
       "      <td>1</td>\n",
       "      <td>1</td>\n",
       "      <td>1</td>\n",
       "      <td>101699.77</td>\n",
       "      <td>0</td>\n",
       "    </tr>\n",
       "    <tr>\n",
       "      <th>9997</th>\n",
       "      <td>9998</td>\n",
       "      <td>15584532</td>\n",
       "      <td>Liu</td>\n",
       "      <td>709</td>\n",
       "      <td>France</td>\n",
       "      <td>Female</td>\n",
       "      <td>36</td>\n",
       "      <td>7.0</td>\n",
       "      <td>0.00</td>\n",
       "      <td>1</td>\n",
       "      <td>0</td>\n",
       "      <td>1</td>\n",
       "      <td>42085.58</td>\n",
       "      <td>1</td>\n",
       "    </tr>\n",
       "    <tr>\n",
       "      <th>9998</th>\n",
       "      <td>9999</td>\n",
       "      <td>15682355</td>\n",
       "      <td>Sabbatini</td>\n",
       "      <td>772</td>\n",
       "      <td>Germany</td>\n",
       "      <td>Male</td>\n",
       "      <td>42</td>\n",
       "      <td>3.0</td>\n",
       "      <td>75075.31</td>\n",
       "      <td>2</td>\n",
       "      <td>1</td>\n",
       "      <td>0</td>\n",
       "      <td>92888.52</td>\n",
       "      <td>1</td>\n",
       "    </tr>\n",
       "    <tr>\n",
       "      <th>9999</th>\n",
       "      <td>10000</td>\n",
       "      <td>15628319</td>\n",
       "      <td>Walker</td>\n",
       "      <td>792</td>\n",
       "      <td>France</td>\n",
       "      <td>Female</td>\n",
       "      <td>28</td>\n",
       "      <td>NaN</td>\n",
       "      <td>130142.79</td>\n",
       "      <td>1</td>\n",
       "      <td>1</td>\n",
       "      <td>0</td>\n",
       "      <td>38190.78</td>\n",
       "      <td>0</td>\n",
       "    </tr>\n",
       "  </tbody>\n",
       "</table>\n",
       "<p>10000 rows × 14 columns</p>\n",
       "</div>"
      ],
      "text/plain": [
       "      row_number  customer_id    surname  credit_score geography  gender  age  \\\n",
       "0              1     15634602   Hargrave           619    France  Female   42   \n",
       "1              2     15647311       Hill           608     Spain  Female   41   \n",
       "2              3     15619304       Onio           502    France  Female   42   \n",
       "3              4     15701354       Boni           699    France  Female   39   \n",
       "4              5     15737888   Mitchell           850     Spain  Female   43   \n",
       "...          ...          ...        ...           ...       ...     ...  ...   \n",
       "9995        9996     15606229   Obijiaku           771    France    Male   39   \n",
       "9996        9997     15569892  Johnstone           516    France    Male   35   \n",
       "9997        9998     15584532        Liu           709    France  Female   36   \n",
       "9998        9999     15682355  Sabbatini           772   Germany    Male   42   \n",
       "9999       10000     15628319     Walker           792    France  Female   28   \n",
       "\n",
       "      tenure    balance  num_of_products  has_cr_card  is_active_member  \\\n",
       "0        2.0       0.00                1            1                 1   \n",
       "1        1.0   83807.86                1            0                 1   \n",
       "2        8.0  159660.80                3            1                 0   \n",
       "3        1.0       0.00                2            0                 0   \n",
       "4        2.0  125510.82                1            1                 1   \n",
       "...      ...        ...              ...          ...               ...   \n",
       "9995     5.0       0.00                2            1                 0   \n",
       "9996    10.0   57369.61                1            1                 1   \n",
       "9997     7.0       0.00                1            0                 1   \n",
       "9998     3.0   75075.31                2            1                 0   \n",
       "9999     NaN  130142.79                1            1                 0   \n",
       "\n",
       "      estimated_salary  exited  \n",
       "0            101348.88       1  \n",
       "1            112542.58       0  \n",
       "2            113931.57       1  \n",
       "3             93826.63       0  \n",
       "4             79084.10       0  \n",
       "...                ...     ...  \n",
       "9995          96270.64       0  \n",
       "9996         101699.77       0  \n",
       "9997          42085.58       1  \n",
       "9998          92888.52       1  \n",
       "9999          38190.78       0  \n",
       "\n",
       "[10000 rows x 14 columns]"
      ]
     },
     "execution_count": 4,
     "metadata": {},
     "output_type": "execute_result"
    }
   ],
   "source": [
    "data.columns = (data.columns.str.replace('(?<=[a-z])(?=[A-Z])', '_', regex=True).str.lower())\n",
    "data"
   ]
  },
  {
   "cell_type": "code",
   "execution_count": 5,
   "metadata": {},
   "outputs": [
    {
     "data": {
      "text/plain": [
       "Male      0.5457\n",
       "Female    0.4543\n",
       "Name: gender, dtype: float64"
      ]
     },
     "execution_count": 5,
     "metadata": {},
     "output_type": "execute_result"
    }
   ],
   "source": [
    "data['gender'].value_counts(normalize=True)"
   ]
  },
  {
   "cell_type": "code",
   "execution_count": 6,
   "metadata": {},
   "outputs": [
    {
     "data": {
      "text/plain": [
       "France     0.5014\n",
       "Germany    0.2509\n",
       "Spain      0.2477\n",
       "Name: geography, dtype: float64"
      ]
     },
     "execution_count": 6,
     "metadata": {},
     "output_type": "execute_result"
    }
   ],
   "source": [
    "data['geography'].value_counts(normalize=True)"
   ]
  },
  {
   "cell_type": "code",
   "execution_count": 7,
   "metadata": {},
   "outputs": [
    {
     "data": {
      "text/plain": [
       "False    10000\n",
       "dtype: int64"
      ]
     },
     "execution_count": 7,
     "metadata": {},
     "output_type": "execute_result"
    }
   ],
   "source": [
    "data.duplicated().value_counts()"
   ]
  },
  {
   "cell_type": "code",
   "execution_count": 8,
   "metadata": {},
   "outputs": [
    {
     "data": {
      "text/plain": [
       "False    10000\n",
       "Name: customer_id, dtype: int64"
      ]
     },
     "execution_count": 8,
     "metadata": {},
     "output_type": "execute_result"
    }
   ],
   "source": [
    "data['customer_id'].duplicated().value_counts()"
   ]
  },
  {
   "cell_type": "code",
   "execution_count": 9,
   "metadata": {},
   "outputs": [
    {
     "data": {
      "text/plain": [
       "False    10000\n",
       "dtype: int64"
      ]
     },
     "execution_count": 9,
     "metadata": {},
     "output_type": "execute_result"
    }
   ],
   "source": [
    "data.loc[:, ['surname', 'geography', 'age', 'gender', 'estimated_salary']].duplicated().value_counts()"
   ]
  },
  {
   "cell_type": "code",
   "execution_count": 10,
   "metadata": {},
   "outputs": [
    {
     "name": "stdout",
     "output_type": "stream",
     "text": [
      "<class 'pandas.core.frame.DataFrame'>\n",
      "RangeIndex: 10000 entries, 0 to 9999\n",
      "Data columns (total 14 columns):\n",
      " #   Column            Non-Null Count  Dtype  \n",
      "---  ------            --------------  -----  \n",
      " 0   row_number        10000 non-null  int64  \n",
      " 1   customer_id       10000 non-null  int64  \n",
      " 2   surname           10000 non-null  object \n",
      " 3   credit_score      10000 non-null  int64  \n",
      " 4   geography         10000 non-null  object \n",
      " 5   gender            10000 non-null  object \n",
      " 6   age               10000 non-null  int64  \n",
      " 7   tenure            10000 non-null  float64\n",
      " 8   balance           10000 non-null  float64\n",
      " 9   num_of_products   10000 non-null  int64  \n",
      " 10  has_cr_card       10000 non-null  int64  \n",
      " 11  is_active_member  10000 non-null  int64  \n",
      " 12  estimated_salary  10000 non-null  float64\n",
      " 13  exited            10000 non-null  int64  \n",
      "dtypes: float64(3), int64(8), object(3)\n",
      "memory usage: 1.1+ MB\n"
     ]
    }
   ],
   "source": [
    "data['tenure'] = data['tenure'].fillna(0)\n",
    "data.info()"
   ]
  },
  {
   "cell_type": "code",
   "execution_count": 11,
   "metadata": {},
   "outputs": [],
   "source": [
    "data_ohe = data.drop('surname', axis=1)\n",
    "data_ohe = data_ohe.drop('customer_id', axis=1)\n",
    "data_ohe = data_ohe.drop('row_number', axis=1)"
   ]
  },
  {
   "cell_type": "code",
   "execution_count": 12,
   "metadata": {},
   "outputs": [
    {
     "name": "stdout",
     "output_type": "stream",
     "text": [
      "(6000, 11)\n",
      "(2000, 11)\n",
      "(2000, 11)\n",
      "(6000,)\n",
      "(2000,)\n",
      "(2000,)\n"
     ]
    }
   ],
   "source": [
    "target = data_ohe['exited']\n",
    "features = data_ohe.drop('exited', axis=1)\n",
    "features_train, features_valid, target_train, target_valid = train_test_split(features, target, \n",
    "                                                                              test_size=0.4, random_state=12345)\n",
    "features_test, features_valid, target_test, target_valid = train_test_split(features_valid, target_valid, \n",
    "                                                                              test_size=0.5, random_state=12345)\n",
    "features_train = pd.get_dummies(features_train, drop_first=True)\n",
    "features_valid = pd.get_dummies(features_valid, drop_first=True)\n",
    "features_test = pd.get_dummies(features_test, drop_first=True)\n",
    "\n",
    "\n",
    "print(features_train.shape)\n",
    "print(features_valid.shape)\n",
    "print(features_test.shape)\n",
    "print(target_train.shape)\n",
    "print(target_valid.shape)\n",
    "print(target_test.shape)"
   ]
  },
  {
   "cell_type": "markdown",
   "metadata": {},
   "source": [
    "Загружен датасет с 10 тыс записями клиентов банка. В нем представлены клиенты со следующими параметрами:\n",
    "1. Крединтный рейтинг от 350 до 850. В среднем 650\n",
    "2. Возраст от 18 до 92 лет. В среднем 37-39\n",
    "3. Клиенты пользуются услугами банка от 0 до 10 лет. В среднем 5 лет\n",
    "4. Баланс на счете от 0 до 250 тыс. В среднем 76 тыс\n",
    "5. Кол-во продуктов, которыми пользуются от 1 до 4. В среднем 1\n",
    "6. У большинства клиентов (около 70%) есть кредитные карты\n",
    "7. Более половины клиентов (окло 51%) являются активными пользователями\n",
    "8. Зарплата от 11 до 199992, в среднем 100000.\n",
    "9. Около 20% клиентов банка из датасета ушли из банка.\n",
    "10. 55% клиентов мужчины и 45% женщины\n",
    "11. 50% клиентов из Франции, 25% из Германнии и 25% из Испании\n",
    "\n",
    "\n",
    "Явных дубликатов не обнаружено. Неявных дубликактов так же нет, как по Id клиента, так и по столбца фамилия, страна, возвраст, пол и зарплата. Перевели названия столбцов к нижнему регистру\n",
    "\n",
    "Есть столбец с пустыми данными по кол-ву лет использования услуг. Возможно при выгрузке данных возинка тезническая ошибка или человеческий фактор при внесении данных в систему. Заменим данные на 0. Так же уберем фаилии клиентов(тк есть точное соотве-ие фамилии и id и проводим прямое кодирование по двум оставшимся столбцам оbject: Страна и пол, для дальнейшего обучения. Так же разделим выборку на обучающую, валидационну и тестовую в пропорции 60 на 20 на 20."
   ]
  },
  {
   "cell_type": "markdown",
   "metadata": {},
   "source": [
    "## Исследование задачи"
   ]
  },
  {
   "cell_type": "code",
   "execution_count": 13,
   "metadata": {},
   "outputs": [
    {
     "data": {
      "text/plain": [
       "0    0.800667\n",
       "1    0.199333\n",
       "Name: exited, dtype: float64"
      ]
     },
     "execution_count": 13,
     "metadata": {},
     "output_type": "execute_result"
    }
   ],
   "source": [
    "target_train.value_counts(normalize=True)"
   ]
  },
  {
   "cell_type": "code",
   "execution_count": 14,
   "metadata": {
    "scrolled": true
   },
   "outputs": [
    {
     "name": "stdout",
     "output_type": "stream",
     "text": [
      "Значнеие f1 меры: 0.13737373737373737\n"
     ]
    }
   ],
   "source": [
    "model = LogisticRegression(random_state=12345)\n",
    "model.fit(features_train, target_train)\n",
    "predictions_valid = model.predict(features_valid)\n",
    "print('Значнеие f1 меры:',f1_score(target_valid, predictions_valid))"
   ]
  },
  {
   "cell_type": "code",
   "execution_count": 15,
   "metadata": {},
   "outputs": [
    {
     "data": {
      "text/plain": [
       "0.47515151515151516"
      ]
     },
     "execution_count": 15,
     "metadata": {},
     "output_type": "execute_result"
    }
   ],
   "source": [
    "model = DecisionTreeClassifier(random_state=12345)\n",
    "model.fit(features_train, target_train)\n",
    "predictions_valid = model.predict(features_valid)\n",
    "f1_score(target_valid, predictions_valid)"
   ]
  },
  {
   "cell_type": "code",
   "execution_count": 16,
   "metadata": {},
   "outputs": [
    {
     "name": "stdout",
     "output_type": "stream",
     "text": [
      "Лучашая глубина: 15\n",
      "Лучшее кол-во деревьев: 30\n",
      "Лучшая f1 мера: 0.5446293494704993\n"
     ]
    }
   ],
   "source": [
    "f1 = 0\n",
    "dep =1\n",
    "tr=10\n",
    "for depth in range(1, 16, 1):\n",
    "    for i in range(10, 100, 10):\n",
    "        model = RandomForestClassifier(n_estimators=i, max_depth=depth, random_state=12345)\n",
    "        model.fit(features_train, target_train)\n",
    "        predictions_valid = model.predict(features_valid)\n",
    "        a = f1_score(target_valid, predictions_valid)\n",
    "        if f1<a:\n",
    "            dep = depth\n",
    "            tr = i\n",
    "            f1 = a\n",
    "print('Лучашая глубина:',dep)\n",
    "print('Лучшее кол-во деревьев:',tr)\n",
    "print('Лучшая f1 мера:',f1)"
   ]
  },
  {
   "cell_type": "markdown",
   "metadata": {},
   "source": [
    "В таргете у нас виден дисбаланс классво 20 на 80. Мы обучили 3 модели на обучаующей выборке и обнаружили, что лучший результат f1 меры получается в модели случайный лес с 30 деревьями и глубиной 15. Полученная f1 мера 0.54 меньше метрики 0.59, заявленной в ТЗ."
   ]
  },
  {
   "cell_type": "markdown",
   "metadata": {},
   "source": [
    "## Борьба с дисбалансом"
   ]
  },
  {
   "cell_type": "code",
   "execution_count": 17,
   "metadata": {},
   "outputs": [
    {
     "name": "stdout",
     "output_type": "stream",
     "text": [
      "Значнеие f1 меры: 0.4293695131683959\n",
      "Значнеие AUC-ROC меры: 0.6849450808084896\n"
     ]
    }
   ],
   "source": [
    "model = LogisticRegression(random_state=12345, solver='liblinear', class_weight='balanced')\n",
    "model.fit(features_train, target_train)\n",
    "predictions_valid = model.predict(features_valid)\n",
    "print('Значнеие f1 меры:',f1_score(target_valid, predictions_valid))\n",
    "\n",
    "probabilities_valid = model.predict_proba(features_valid)\n",
    "probabilities_one_valid = probabilities_valid[:, 1]\n",
    "auc_roc = roc_auc_score(target_valid, probabilities_one_valid)\n",
    "print('Значнеие AUC-ROC меры:', auc_roc)"
   ]
  },
  {
   "cell_type": "code",
   "execution_count": 18,
   "metadata": {},
   "outputs": [
    {
     "name": "stdout",
     "output_type": "stream",
     "text": [
      "Значнеие f1 меры: 0.47515151515151516\n",
      "Значнеие AUC-ROC меры: 0.6663645998701787\n"
     ]
    }
   ],
   "source": [
    "model = DecisionTreeClassifier(random_state=12345)\n",
    "model.fit(features_train, target_train)\n",
    "predictions_valid = model.predict(features_valid)\n",
    "print('Значнеие f1 меры:',f1_score(target_valid, predictions_valid))\n",
    "\n",
    "probabilities_valid = model.predict_proba(features_valid)\n",
    "probabilities_one_valid = probabilities_valid[:, 1]\n",
    "auc_roc = roc_auc_score(target_valid, probabilities_one_valid)\n",
    "print('Значнеие AUC-ROC меры:', auc_roc)"
   ]
  },
  {
   "cell_type": "code",
   "execution_count": 19,
   "metadata": {},
   "outputs": [
    {
     "name": "stdout",
     "output_type": "stream",
     "text": [
      "Значнеие AUC-ROC меры: 0.8503487634749525\n",
      "Лучашая глубина: 9\n",
      "Лучшее кол-во деревьев: 60\n",
      "Лучшая f1 мера: 0.6157303370786517\n"
     ]
    }
   ],
   "source": [
    "f1 = 0\n",
    "dep =1\n",
    "tr=10\n",
    "for depth in range(1, 16, 1):\n",
    "    for i in range(10, 100, 10):\n",
    "        model = RandomForestClassifier(n_estimators=i, max_depth=depth, random_state=12345, class_weight='balanced')\n",
    "        model.fit(features_train, target_train)\n",
    "        predictions_valid = model.predict(features_valid)\n",
    "        a = f1_score(target_valid, predictions_valid)\n",
    "        if f1<a:\n",
    "            dep = depth\n",
    "            tr = i\n",
    "            f1 = a\n",
    "            \n",
    "probabilities_valid = model.predict_proba(features_valid)\n",
    "probabilities_one_valid = probabilities_valid[:, 1]\n",
    "auc_roc = roc_auc_score(target_valid, probabilities_one_valid)\n",
    "print('Значнеие AUC-ROC меры:', auc_roc)\n",
    "print('Лучашая глубина:',dep)\n",
    "print('Лучшее кол-во деревьев:',tr)\n",
    "print('Лучшая f1 мера:',f1)"
   ]
  },
  {
   "cell_type": "markdown",
   "metadata": {},
   "source": [
    "Введя дополнительный гиперпараметр веса класса мы получили лучшую f1 меру 0.62 и AUC-ROC 0.85 в модели случайного леса с 60 деревьями и глубиной 9, соответвующую ТЗ (больше 0.59)"
   ]
  },
  {
   "cell_type": "code",
   "execution_count": 20,
   "metadata": {},
   "outputs": [],
   "source": [
    "def upsample(features, target, repeat):\n",
    "    features_zeros = features[target == 0]\n",
    "    features_ones = features[target == 1]\n",
    "    target_zeros = target[target == 0]\n",
    "    target_ones = target[target == 1]\n",
    "\n",
    "    features_upsampled = pd.concat([features_zeros] + [features_ones] * repeat)\n",
    "    target_upsampled = pd.concat([target_zeros] + [target_ones] * repeat)\n",
    "    \n",
    "    features_upsampled, target_upsampled = shuffle(\n",
    "        features_upsampled, target_upsampled, random_state=12345)\n",
    "    \n",
    "    return features_upsampled, target_upsampled\n",
    "\n",
    "features_upsampled, target_upsampled = upsample(features_train, target_train, 4)"
   ]
  },
  {
   "cell_type": "code",
   "execution_count": 21,
   "metadata": {},
   "outputs": [
    {
     "name": "stdout",
     "output_type": "stream",
     "text": [
      "Значнеие f1 меры: 0.4293695131683959\n",
      "Значнеие AUC-ROC меры: 0.6849450808084896\n"
     ]
    }
   ],
   "source": [
    "model = LogisticRegression(random_state=12345, solver='liblinear', class_weight='balanced')\n",
    "model.fit(features_upsampled, target_upsampled)\n",
    "predictions_valid = model.predict(features_valid)\n",
    "print('Значнеие f1 меры:',f1_score(target_valid, predictions_valid))\n",
    "probabilities_valid = model.predict_proba(features_valid)\n",
    "probabilities_one_valid = probabilities_valid[:, 1]\n",
    "auc_roc = roc_auc_score(target_valid, probabilities_one_valid)\n",
    "print('Значнеие AUC-ROC меры:', auc_roc)"
   ]
  },
  {
   "cell_type": "code",
   "execution_count": 22,
   "metadata": {},
   "outputs": [
    {
     "name": "stdout",
     "output_type": "stream",
     "text": [
      "Значнеие f1 меры: 0.49388753056234713\n",
      "Значнеие AUC-ROC меры: 0.6775785486102679\n"
     ]
    }
   ],
   "source": [
    "model = DecisionTreeClassifier(random_state=12345)\n",
    "model.fit(features_upsampled, target_upsampled)\n",
    "predictions_valid = model.predict(features_valid)\n",
    "print('Значнеие f1 меры:',f1_score(target_valid, predictions_valid))\n",
    "\n",
    "probabilities_valid = model.predict_proba(features_valid)\n",
    "probabilities_one_valid = probabilities_valid[:, 1]\n",
    "auc_roc = roc_auc_score(target_valid, probabilities_one_valid)\n",
    "print('Значнеие AUC-ROC меры:', auc_roc)"
   ]
  },
  {
   "cell_type": "code",
   "execution_count": 23,
   "metadata": {},
   "outputs": [
    {
     "name": "stdout",
     "output_type": "stream",
     "text": [
      "Значнеие AUC-ROC меры: 0.8518178724603528\n",
      "Лучашая глубина: 11\n",
      "Лучшее кол-во деревьев: 30\n",
      "Лучшая f1 мера: 0.6252771618625277\n"
     ]
    }
   ],
   "source": [
    "f1 = 0\n",
    "dep =1\n",
    "tr=10\n",
    "for depth in range(1, 16, 1):\n",
    "    for i in range(10, 100, 10):\n",
    "        model = RandomForestClassifier(n_estimators=i, max_depth=depth, random_state=12345, class_weight='balanced')\n",
    "        model.fit(features_upsampled, target_upsampled)\n",
    "        predictions_valid = model.predict(features_valid)\n",
    "        a = f1_score(target_valid, predictions_valid)\n",
    "        if f1<a:\n",
    "            dep = depth\n",
    "            tr = i\n",
    "            f1 = a\n",
    "probabilities_valid = model.predict_proba(features_valid)\n",
    "probabilities_one_valid = probabilities_valid[:, 1]\n",
    "auc_roc = roc_auc_score(target_valid, probabilities_one_valid)\n",
    "print('Значнеие AUC-ROC меры:', auc_roc)\n",
    "print('Лучашая глубина:',dep)\n",
    "print('Лучшее кол-во деревьев:',tr)\n",
    "print('Лучшая f1 мера:',f1)"
   ]
  },
  {
   "cell_type": "markdown",
   "metadata": {},
   "source": [
    "Мы произвели увеличение выборки для попытки ликвидировать дисбаланс классов. В сравнении с предыдущим методом, это не привело к существенному улучшению метрик. Лучшая модель - случайный лес с 30 деревьями и глубиной 11 дала метрику f1 0.63 и AUC-ROC 0.85"
   ]
  },
  {
   "cell_type": "markdown",
   "metadata": {},
   "source": [
    "## Тестирование модели"
   ]
  },
  {
   "cell_type": "code",
   "execution_count": 24,
   "metadata": {},
   "outputs": [
    {
     "name": "stdout",
     "output_type": "stream",
     "text": [
      "Значнеие f1 меры: 0.6208476517754868\n",
      "Значнеие AUC-ROC меры: 0.8541667926856562\n"
     ]
    }
   ],
   "source": [
    "model = RandomForestClassifier(n_estimators=60, max_depth=9, random_state=12345, class_weight='balanced')\n",
    "model.fit(features_train, target_train)\n",
    "predictions_test = model.predict(features_test)\n",
    "\n",
    "print('Значнеие f1 меры:',f1_score(target_test, predictions_test))\n",
    "\n",
    "probabilities_test = model.predict_proba(features_test)\n",
    "probabilities_one_test = probabilities_test[:, 1]\n",
    "auc_roc = roc_auc_score(target_test, probabilities_one_test)\n",
    "print('Значнеие AUC-ROC меры:', auc_roc)"
   ]
  },
  {
   "cell_type": "markdown",
   "metadata": {},
   "source": [
    "При использовании улчшей модели случайный лес с 60 деревьями и глубиной 9, с гиперпарамтров вес классов мы получили на тестовой выборке меру f1=0.62 и AUC-ROC=0.85. Достигнуты показатели заданные в ТЗ."
   ]
  }
 ],
 "metadata": {
  "ExecuteTimeLog": [
   {
    "duration": 495,
    "start_time": "2023-07-28T10:13:14.067Z"
   },
   {
    "duration": 178,
    "start_time": "2023-07-28T10:13:18.537Z"
   },
   {
    "duration": 42,
    "start_time": "2023-07-28T10:13:42.087Z"
   },
   {
    "duration": 63,
    "start_time": "2023-07-28T10:14:23.066Z"
   },
   {
    "duration": 81,
    "start_time": "2023-07-28T10:14:35.137Z"
   },
   {
    "duration": 98,
    "start_time": "2023-07-28T10:14:52.338Z"
   },
   {
    "duration": 1254,
    "start_time": "2023-07-28T11:26:49.667Z"
   },
   {
    "duration": 24,
    "start_time": "2023-07-28T11:27:03.567Z"
   },
   {
    "duration": 18,
    "start_time": "2023-07-28T11:27:21.413Z"
   },
   {
    "duration": 26,
    "start_time": "2023-07-28T11:27:33.260Z"
   },
   {
    "duration": 28,
    "start_time": "2023-07-28T11:28:03.857Z"
   },
   {
    "duration": 36,
    "start_time": "2023-07-28T11:28:22.515Z"
   },
   {
    "duration": 31,
    "start_time": "2023-07-28T11:28:39.792Z"
   },
   {
    "duration": 52,
    "start_time": "2023-07-28T11:28:59.047Z"
   },
   {
    "duration": 18,
    "start_time": "2023-07-28T11:31:59.204Z"
   },
   {
    "duration": 45,
    "start_time": "2023-07-28T11:32:48.067Z"
   },
   {
    "duration": 23,
    "start_time": "2023-07-28T11:33:23.684Z"
   },
   {
    "duration": 23,
    "start_time": "2023-07-28T11:33:40.988Z"
   },
   {
    "duration": 24,
    "start_time": "2023-07-28T11:34:48.708Z"
   },
   {
    "duration": 4,
    "start_time": "2023-07-28T11:35:56.587Z"
   },
   {
    "duration": 15,
    "start_time": "2023-07-28T11:36:06.968Z"
   },
   {
    "duration": 428,
    "start_time": "2023-07-28T11:37:37.043Z"
   },
   {
    "duration": 49,
    "start_time": "2023-07-28T11:37:37.473Z"
   },
   {
    "duration": 81,
    "start_time": "2023-07-28T11:37:37.523Z"
   },
   {
    "duration": 13,
    "start_time": "2023-07-28T11:37:37.606Z"
   },
   {
    "duration": 14,
    "start_time": "2023-07-28T11:39:31.736Z"
   },
   {
    "duration": 416,
    "start_time": "2023-07-28T11:41:53.626Z"
   },
   {
    "duration": 74,
    "start_time": "2023-07-28T11:41:55.284Z"
   },
   {
    "duration": 103,
    "start_time": "2023-07-28T11:41:56.250Z"
   },
   {
    "duration": 92,
    "start_time": "2023-07-28T11:48:52.300Z"
   },
   {
    "duration": 16,
    "start_time": "2023-07-28T11:48:56.849Z"
   },
   {
    "duration": 15,
    "start_time": "2023-07-28T11:49:10.927Z"
   },
   {
    "duration": 8,
    "start_time": "2023-07-28T11:54:58.500Z"
   },
   {
    "duration": 10,
    "start_time": "2023-07-28T11:55:38.094Z"
   },
   {
    "duration": 15,
    "start_time": "2023-07-28T11:56:41.295Z"
   },
   {
    "duration": 9,
    "start_time": "2023-07-28T11:57:03.653Z"
   },
   {
    "duration": 12,
    "start_time": "2023-07-28T11:57:10.916Z"
   },
   {
    "duration": 10,
    "start_time": "2023-07-28T11:57:37.210Z"
   },
   {
    "duration": 14,
    "start_time": "2023-07-28T11:57:59.704Z"
   },
   {
    "duration": 11,
    "start_time": "2023-07-28T11:58:12.544Z"
   },
   {
    "duration": 15,
    "start_time": "2023-07-28T12:09:20.153Z"
   },
   {
    "duration": 7,
    "start_time": "2023-07-28T12:10:03.492Z"
   },
   {
    "duration": 3567,
    "start_time": "2023-07-28T12:29:30.960Z"
   },
   {
    "duration": 2623,
    "start_time": "2023-07-28T12:30:08.660Z"
   },
   {
    "duration": 24,
    "start_time": "2023-07-28T12:30:17.802Z"
   },
   {
    "duration": 1593,
    "start_time": "2023-07-28T12:30:43.938Z"
   },
   {
    "duration": 15,
    "start_time": "2023-07-28T12:31:57.486Z"
   },
   {
    "duration": 14,
    "start_time": "2023-07-28T12:32:30.550Z"
   },
   {
    "duration": 15,
    "start_time": "2023-07-28T12:32:34.036Z"
   },
   {
    "duration": 11,
    "start_time": "2023-07-28T12:33:02.189Z"
   },
   {
    "duration": 11,
    "start_time": "2023-07-28T12:34:18.100Z"
   },
   {
    "duration": 15,
    "start_time": "2023-07-28T12:34:22.940Z"
   },
   {
    "duration": 49,
    "start_time": "2023-07-28T12:36:44.295Z"
   },
   {
    "duration": 161,
    "start_time": "2023-07-28T12:37:06.020Z"
   },
   {
    "duration": 128,
    "start_time": "2023-07-28T12:37:10.719Z"
   },
   {
    "duration": 29,
    "start_time": "2023-07-28T12:37:15.837Z"
   },
   {
    "duration": 20,
    "start_time": "2023-07-28T12:37:52.606Z"
   },
   {
    "duration": 194,
    "start_time": "2023-07-28T12:38:36.563Z"
   },
   {
    "duration": 140,
    "start_time": "2023-07-28T12:38:46.798Z"
   },
   {
    "duration": 203,
    "start_time": "2023-07-28T12:39:12.336Z"
   },
   {
    "duration": 29,
    "start_time": "2023-07-28T12:39:23.008Z"
   },
   {
    "duration": 5,
    "start_time": "2023-07-28T12:39:26.709Z"
   },
   {
    "duration": 59,
    "start_time": "2023-07-28T12:39:31.064Z"
   },
   {
    "duration": 36,
    "start_time": "2023-07-28T12:40:07.138Z"
   },
   {
    "duration": 17,
    "start_time": "2023-07-28T12:40:35.493Z"
   },
   {
    "duration": 33,
    "start_time": "2023-07-28T12:40:40.598Z"
   },
   {
    "duration": 33,
    "start_time": "2023-07-28T12:51:00.597Z"
   },
   {
    "duration": 24,
    "start_time": "2023-07-28T12:51:25.898Z"
   },
   {
    "duration": 33,
    "start_time": "2023-07-28T12:51:38.002Z"
   },
   {
    "duration": 30,
    "start_time": "2023-07-28T12:51:54.636Z"
   },
   {
    "duration": 56,
    "start_time": "2023-07-28T12:52:06.854Z"
   },
   {
    "duration": 41,
    "start_time": "2023-07-28T12:52:24.354Z"
   },
   {
    "duration": 41,
    "start_time": "2023-07-28T12:52:55.492Z"
   },
   {
    "duration": 12,
    "start_time": "2023-07-28T12:53:39.340Z"
   },
   {
    "duration": 38,
    "start_time": "2023-07-28T12:54:14.508Z"
   },
   {
    "duration": 31,
    "start_time": "2023-07-28T12:54:37.941Z"
   },
   {
    "duration": 14,
    "start_time": "2023-07-28T12:55:04.232Z"
   },
   {
    "duration": 15,
    "start_time": "2023-07-28T12:57:00.402Z"
   },
   {
    "duration": 1018,
    "start_time": "2023-07-28T17:00:59.697Z"
   },
   {
    "duration": 15,
    "start_time": "2023-07-28T17:02:58.383Z"
   },
   {
    "duration": 16,
    "start_time": "2023-07-28T17:08:45.435Z"
   },
   {
    "duration": 123,
    "start_time": "2023-07-28T17:08:52.867Z"
   },
   {
    "duration": 235,
    "start_time": "2023-07-28T17:08:58.167Z"
   },
   {
    "duration": 261,
    "start_time": "2023-07-28T17:09:08.136Z"
   },
   {
    "duration": 242,
    "start_time": "2023-07-28T17:09:30.632Z"
   },
   {
    "duration": 248,
    "start_time": "2023-07-28T17:09:36.838Z"
   },
   {
    "duration": 255,
    "start_time": "2023-07-28T17:09:44.185Z"
   },
   {
    "duration": 30,
    "start_time": "2023-07-28T17:10:13.187Z"
   },
   {
    "duration": 4,
    "start_time": "2023-07-28T17:13:38.185Z"
   },
   {
    "duration": 3385,
    "start_time": "2023-07-28T17:13:40.430Z"
   },
   {
    "duration": 8,
    "start_time": "2023-07-28T17:13:49.366Z"
   },
   {
    "duration": 39,
    "start_time": "2023-07-28T17:17:09.146Z"
   },
   {
    "duration": 34,
    "start_time": "2023-07-28T17:17:22.317Z"
   },
   {
    "duration": 37,
    "start_time": "2023-07-28T17:17:28.508Z"
   },
   {
    "duration": 1250,
    "start_time": "2023-07-28T17:17:48.271Z"
   },
   {
    "duration": 44,
    "start_time": "2023-07-28T17:17:49.524Z"
   },
   {
    "duration": 99,
    "start_time": "2023-07-28T17:17:49.570Z"
   },
   {
    "duration": 4,
    "start_time": "2023-07-28T17:17:49.671Z"
   },
   {
    "duration": 14,
    "start_time": "2023-07-28T17:17:49.678Z"
   },
   {
    "duration": 11,
    "start_time": "2023-07-28T17:17:49.694Z"
   },
   {
    "duration": 28,
    "start_time": "2023-07-28T17:17:49.707Z"
   },
   {
    "duration": 1876,
    "start_time": "2023-07-28T17:17:49.738Z"
   },
   {
    "duration": 0,
    "start_time": "2023-07-28T17:17:51.615Z"
   },
   {
    "duration": 0,
    "start_time": "2023-07-28T17:17:51.617Z"
   },
   {
    "duration": 0,
    "start_time": "2023-07-28T17:17:51.618Z"
   },
   {
    "duration": 6,
    "start_time": "2023-07-28T17:18:02.557Z"
   },
   {
    "duration": 12,
    "start_time": "2023-07-28T17:18:06.115Z"
   },
   {
    "duration": 15,
    "start_time": "2023-07-28T17:18:07.979Z"
   },
   {
    "duration": 36,
    "start_time": "2023-07-28T17:18:21.647Z"
   },
   {
    "duration": 10,
    "start_time": "2023-07-28T17:22:29.307Z"
   },
   {
    "duration": 16,
    "start_time": "2023-07-28T17:24:18.488Z"
   },
   {
    "duration": 17,
    "start_time": "2023-07-28T17:24:26.638Z"
   },
   {
    "duration": 13,
    "start_time": "2023-07-28T17:25:20.786Z"
   },
   {
    "duration": 13,
    "start_time": "2023-07-28T17:25:45.137Z"
   },
   {
    "duration": 52,
    "start_time": "2023-07-28T17:33:49.190Z"
   },
   {
    "duration": 5,
    "start_time": "2023-07-28T17:36:28.918Z"
   },
   {
    "duration": 4,
    "start_time": "2023-07-28T17:43:32.578Z"
   },
   {
    "duration": 481,
    "start_time": "2023-07-28T17:52:27.987Z"
   },
   {
    "duration": 18,
    "start_time": "2023-07-28T17:53:18.935Z"
   },
   {
    "duration": 4,
    "start_time": "2023-07-28T17:54:05.238Z"
   },
   {
    "duration": 468,
    "start_time": "2023-07-28T17:54:20.610Z"
   },
   {
    "duration": 59,
    "start_time": "2023-07-28T17:54:29.927Z"
   },
   {
    "duration": 60,
    "start_time": "2023-07-28T17:55:42.669Z"
   },
   {
    "duration": 3,
    "start_time": "2023-07-28T17:57:56.088Z"
   },
   {
    "duration": 10,
    "start_time": "2023-07-28T17:58:06.568Z"
   },
   {
    "duration": 149,
    "start_time": "2023-07-28T17:58:44.229Z"
   },
   {
    "duration": 463,
    "start_time": "2023-07-28T17:59:00.517Z"
   },
   {
    "duration": 1147,
    "start_time": "2023-07-28T18:02:19.577Z"
   },
   {
    "duration": 3,
    "start_time": "2023-07-28T18:03:11.302Z"
   },
   {
    "duration": 57,
    "start_time": "2023-07-28T18:03:32.082Z"
   },
   {
    "duration": 4,
    "start_time": "2023-07-28T18:04:43.114Z"
   },
   {
    "duration": 38796,
    "start_time": "2023-07-28T18:05:05.601Z"
   },
   {
    "duration": 6,
    "start_time": "2023-07-28T18:06:46.283Z"
   },
   {
    "duration": 6,
    "start_time": "2023-07-28T18:07:21.011Z"
   },
   {
    "duration": 167,
    "start_time": "2023-07-28T18:14:05.401Z"
   },
   {
    "duration": 54,
    "start_time": "2023-07-28T18:14:45.784Z"
   },
   {
    "duration": 15,
    "start_time": "2023-07-28T18:15:12.052Z"
   },
   {
    "duration": 38503,
    "start_time": "2023-07-28T18:15:21.351Z"
   },
   {
    "duration": 322,
    "start_time": "2023-07-28T18:18:14.061Z"
   },
   {
    "duration": 4,
    "start_time": "2023-07-28T18:20:35.851Z"
   },
   {
    "duration": 42,
    "start_time": "2023-07-28T18:20:51.621Z"
   },
   {
    "duration": 16,
    "start_time": "2023-07-28T18:24:49.892Z"
   },
   {
    "duration": 115,
    "start_time": "2023-07-28T18:25:38.762Z"
   },
   {
    "duration": 77,
    "start_time": "2023-07-28T18:26:13.702Z"
   },
   {
    "duration": 84,
    "start_time": "2023-07-28T18:26:17.891Z"
   },
   {
    "duration": 64,
    "start_time": "2023-07-28T18:26:35.837Z"
   },
   {
    "duration": 50,
    "start_time": "2023-07-28T18:26:45.522Z"
   },
   {
    "duration": 83,
    "start_time": "2023-07-28T18:26:50.542Z"
   },
   {
    "duration": 69,
    "start_time": "2023-07-28T18:27:02.172Z"
   },
   {
    "duration": 61,
    "start_time": "2023-07-28T18:27:12.502Z"
   },
   {
    "duration": 52124,
    "start_time": "2023-07-28T18:27:44.460Z"
   },
   {
    "duration": 145,
    "start_time": "2023-07-28T18:32:15.523Z"
   },
   {
    "duration": 57,
    "start_time": "2023-07-28T18:32:51.672Z"
   },
   {
    "duration": 59,
    "start_time": "2023-07-28T18:33:17.733Z"
   },
   {
    "duration": 39065,
    "start_time": "2023-07-28T18:33:51.362Z"
   },
   {
    "duration": 137,
    "start_time": "2023-07-28T18:37:11.135Z"
   },
   {
    "duration": 69,
    "start_time": "2023-07-28T18:37:30.952Z"
   },
   {
    "duration": 53000,
    "start_time": "2023-07-28T18:37:45.631Z"
   },
   {
    "duration": 387,
    "start_time": "2023-07-28T18:39:31.842Z"
   },
   {
    "duration": 45,
    "start_time": "2023-07-29T07:48:05.529Z"
   },
   {
    "duration": 1228,
    "start_time": "2023-07-29T07:48:12.398Z"
   },
   {
    "duration": 160,
    "start_time": "2023-07-29T07:48:14.488Z"
   },
   {
    "duration": 79,
    "start_time": "2023-07-29T07:48:19.748Z"
   },
   {
    "duration": 24,
    "start_time": "2023-07-29T07:48:27.909Z"
   },
   {
    "duration": 112,
    "start_time": "2023-07-29T07:51:20.588Z"
   },
   {
    "duration": 63,
    "start_time": "2023-07-29T07:51:33.138Z"
   },
   {
    "duration": 8,
    "start_time": "2023-07-29T07:52:31.118Z"
   },
   {
    "duration": 28,
    "start_time": "2023-07-29T07:54:23.196Z"
   },
   {
    "duration": 10,
    "start_time": "2023-07-29T07:55:07.658Z"
   },
   {
    "duration": 1157,
    "start_time": "2023-07-29T07:56:32.696Z"
   },
   {
    "duration": 46,
    "start_time": "2023-07-29T07:56:33.854Z"
   },
   {
    "duration": 78,
    "start_time": "2023-07-29T07:56:33.902Z"
   },
   {
    "duration": 23,
    "start_time": "2023-07-29T07:56:33.983Z"
   },
   {
    "duration": 14,
    "start_time": "2023-07-29T07:56:34.008Z"
   },
   {
    "duration": 7,
    "start_time": "2023-07-29T07:56:34.024Z"
   },
   {
    "duration": 44,
    "start_time": "2023-07-29T07:56:34.033Z"
   },
   {
    "duration": 2066,
    "start_time": "2023-07-29T07:56:34.079Z"
   },
   {
    "duration": 0,
    "start_time": "2023-07-29T07:56:36.148Z"
   },
   {
    "duration": 0,
    "start_time": "2023-07-29T07:56:36.149Z"
   },
   {
    "duration": 0,
    "start_time": "2023-07-29T07:56:36.150Z"
   },
   {
    "duration": 0,
    "start_time": "2023-07-29T07:56:36.151Z"
   },
   {
    "duration": 0,
    "start_time": "2023-07-29T07:56:36.153Z"
   },
   {
    "duration": 0,
    "start_time": "2023-07-29T07:56:36.154Z"
   },
   {
    "duration": 0,
    "start_time": "2023-07-29T07:56:36.155Z"
   },
   {
    "duration": 0,
    "start_time": "2023-07-29T07:56:36.156Z"
   },
   {
    "duration": 0,
    "start_time": "2023-07-29T07:56:36.157Z"
   },
   {
    "duration": 0,
    "start_time": "2023-07-29T07:56:36.158Z"
   },
   {
    "duration": 0,
    "start_time": "2023-07-29T07:56:36.159Z"
   },
   {
    "duration": 0,
    "start_time": "2023-07-29T07:56:36.160Z"
   },
   {
    "duration": 0,
    "start_time": "2023-07-29T07:56:36.161Z"
   },
   {
    "duration": 0,
    "start_time": "2023-07-29T07:56:36.163Z"
   },
   {
    "duration": 11,
    "start_time": "2023-07-29T07:56:40.119Z"
   },
   {
    "duration": 0,
    "start_time": "2023-07-29T07:56:40.132Z"
   },
   {
    "duration": 1343,
    "start_time": "2023-07-29T07:57:01.289Z"
   },
   {
    "duration": 40,
    "start_time": "2023-07-29T07:57:02.634Z"
   },
   {
    "duration": 97,
    "start_time": "2023-07-29T07:57:02.676Z"
   },
   {
    "duration": 32,
    "start_time": "2023-07-29T07:57:02.776Z"
   },
   {
    "duration": 11,
    "start_time": "2023-07-29T07:57:02.810Z"
   },
   {
    "duration": 17,
    "start_time": "2023-07-29T07:57:02.823Z"
   },
   {
    "duration": 25,
    "start_time": "2023-07-29T07:57:02.860Z"
   },
   {
    "duration": 18,
    "start_time": "2023-07-29T07:57:02.887Z"
   },
   {
    "duration": 30,
    "start_time": "2023-07-29T07:57:02.907Z"
   },
   {
    "duration": 20,
    "start_time": "2023-07-29T07:57:02.940Z"
   },
   {
    "duration": 7,
    "start_time": "2023-07-29T07:57:02.962Z"
   },
   {
    "duration": 45,
    "start_time": "2023-07-29T07:57:02.970Z"
   },
   {
    "duration": 9,
    "start_time": "2023-07-29T07:57:03.016Z"
   },
   {
    "duration": 433,
    "start_time": "2023-07-29T07:57:03.027Z"
   },
   {
    "duration": 123,
    "start_time": "2023-07-29T07:57:03.462Z"
   },
   {
    "duration": 34054,
    "start_time": "2023-07-29T07:57:03.586Z"
   },
   {
    "duration": 118,
    "start_time": "2023-07-29T07:57:37.642Z"
   },
   {
    "duration": 127,
    "start_time": "2023-07-29T07:57:37.762Z"
   },
   {
    "duration": 34876,
    "start_time": "2023-07-29T07:57:37.890Z"
   },
   {
    "duration": 113,
    "start_time": "2023-07-29T07:58:12.768Z"
   },
   {
    "duration": 117,
    "start_time": "2023-07-29T07:58:12.884Z"
   },
   {
    "duration": 0,
    "start_time": "2023-07-29T07:58:13.003Z"
   },
   {
    "duration": 0,
    "start_time": "2023-07-29T07:58:13.004Z"
   },
   {
    "duration": 0,
    "start_time": "2023-07-29T07:58:13.005Z"
   },
   {
    "duration": 28,
    "start_time": "2023-07-29T08:01:17.700Z"
   },
   {
    "duration": 24,
    "start_time": "2023-07-29T08:01:27.049Z"
   },
   {
    "duration": 28,
    "start_time": "2023-07-29T08:01:37.107Z"
   },
   {
    "duration": 305,
    "start_time": "2023-07-29T08:01:47.528Z"
   },
   {
    "duration": 55,
    "start_time": "2023-07-29T08:17:19.785Z"
   },
   {
    "duration": 36,
    "start_time": "2023-07-29T08:17:36.406Z"
   },
   {
    "duration": 41,
    "start_time": "2023-07-29T08:17:50.385Z"
   },
   {
    "duration": 37,
    "start_time": "2023-07-29T08:18:01.406Z"
   },
   {
    "duration": 45,
    "start_time": "2023-07-29T08:18:10.966Z"
   },
   {
    "duration": 35,
    "start_time": "2023-07-29T08:18:37.017Z"
   },
   {
    "duration": 29,
    "start_time": "2023-07-29T08:18:55.437Z"
   },
   {
    "duration": 26,
    "start_time": "2023-07-29T08:19:00.398Z"
   },
   {
    "duration": 1188,
    "start_time": "2023-07-29T08:19:16.868Z"
   },
   {
    "duration": 54,
    "start_time": "2023-07-29T08:19:18.058Z"
   },
   {
    "duration": 93,
    "start_time": "2023-07-29T08:19:18.114Z"
   },
   {
    "duration": 23,
    "start_time": "2023-07-29T08:19:18.209Z"
   },
   {
    "duration": 26,
    "start_time": "2023-07-29T08:19:18.234Z"
   },
   {
    "duration": 10,
    "start_time": "2023-07-29T08:19:18.262Z"
   },
   {
    "duration": 15,
    "start_time": "2023-07-29T08:19:18.275Z"
   },
   {
    "duration": 7,
    "start_time": "2023-07-29T08:19:18.292Z"
   },
   {
    "duration": 21,
    "start_time": "2023-07-29T08:19:18.301Z"
   },
   {
    "duration": 38,
    "start_time": "2023-07-29T08:19:18.325Z"
   },
   {
    "duration": 8,
    "start_time": "2023-07-29T08:19:18.365Z"
   },
   {
    "duration": 31,
    "start_time": "2023-07-29T08:19:18.374Z"
   },
   {
    "duration": 6,
    "start_time": "2023-07-29T08:19:18.407Z"
   },
   {
    "duration": 1150,
    "start_time": "2023-07-29T08:19:18.414Z"
   },
   {
    "duration": 205,
    "start_time": "2023-07-29T08:19:19.567Z"
   },
   {
    "duration": 33312,
    "start_time": "2023-07-29T08:19:19.774Z"
   },
   {
    "duration": 76,
    "start_time": "2023-07-29T08:19:53.088Z"
   },
   {
    "duration": 201,
    "start_time": "2023-07-29T08:19:53.165Z"
   },
   {
    "duration": 32370,
    "start_time": "2023-07-29T08:19:53.368Z"
   },
   {
    "duration": 21,
    "start_time": "2023-07-29T08:20:25.739Z"
   },
   {
    "duration": 99,
    "start_time": "2023-07-29T08:20:25.762Z"
   },
   {
    "duration": 133,
    "start_time": "2023-07-29T08:20:25.863Z"
   },
   {
    "duration": 44483,
    "start_time": "2023-07-29T08:20:25.998Z"
   },
   {
    "duration": 305,
    "start_time": "2023-07-29T08:21:10.483Z"
   },
   {
    "duration": 295,
    "start_time": "2023-07-29T08:25:47.270Z"
   },
   {
    "duration": 49,
    "start_time": "2023-07-29T08:25:53.470Z"
   },
   {
    "duration": 202,
    "start_time": "2023-07-29T08:26:18.700Z"
   },
   {
    "duration": 201,
    "start_time": "2023-07-29T08:26:24.740Z"
   },
   {
    "duration": 37,
    "start_time": "2023-07-29T08:26:39.770Z"
   },
   {
    "duration": 293,
    "start_time": "2023-07-29T08:26:47.170Z"
   },
   {
    "duration": 353,
    "start_time": "2023-07-29T08:27:19.082Z"
   },
   {
    "duration": 1089,
    "start_time": "2023-07-29T08:28:20.209Z"
   },
   {
    "duration": 43,
    "start_time": "2023-07-29T08:28:21.300Z"
   },
   {
    "duration": 76,
    "start_time": "2023-07-29T08:28:21.344Z"
   },
   {
    "duration": 42,
    "start_time": "2023-07-29T08:28:21.422Z"
   },
   {
    "duration": 12,
    "start_time": "2023-07-29T08:28:21.465Z"
   },
   {
    "duration": 7,
    "start_time": "2023-07-29T08:28:21.478Z"
   },
   {
    "duration": 17,
    "start_time": "2023-07-29T08:28:21.486Z"
   },
   {
    "duration": 5,
    "start_time": "2023-07-29T08:28:21.505Z"
   },
   {
    "duration": 11,
    "start_time": "2023-07-29T08:28:21.511Z"
   },
   {
    "duration": 45,
    "start_time": "2023-07-29T08:28:21.524Z"
   },
   {
    "duration": 7,
    "start_time": "2023-07-29T08:28:21.570Z"
   },
   {
    "duration": 35,
    "start_time": "2023-07-29T08:28:21.578Z"
   },
   {
    "duration": 5,
    "start_time": "2023-07-29T08:28:21.615Z"
   },
   {
    "duration": 541,
    "start_time": "2023-07-29T08:28:21.622Z"
   },
   {
    "duration": 200,
    "start_time": "2023-07-29T08:28:22.165Z"
   },
   {
    "duration": 32263,
    "start_time": "2023-07-29T08:28:22.366Z"
   },
   {
    "duration": 45,
    "start_time": "2023-07-29T08:28:54.631Z"
   },
   {
    "duration": 128,
    "start_time": "2023-07-29T08:28:54.761Z"
   },
   {
    "duration": 31909,
    "start_time": "2023-07-29T08:28:54.891Z"
   },
   {
    "duration": 13,
    "start_time": "2023-07-29T08:29:26.801Z"
   },
   {
    "duration": 59,
    "start_time": "2023-07-29T08:29:26.818Z"
   },
   {
    "duration": 206,
    "start_time": "2023-07-29T08:29:26.879Z"
   },
   {
    "duration": 44218,
    "start_time": "2023-07-29T08:29:27.087Z"
   },
   {
    "duration": 375,
    "start_time": "2023-07-29T08:30:11.306Z"
   }
  ],
  "kernelspec": {
   "display_name": "Python 3 (ipykernel)",
   "language": "python",
   "name": "python3"
  },
  "language_info": {
   "codemirror_mode": {
    "name": "ipython",
    "version": 3
   },
   "file_extension": ".py",
   "mimetype": "text/x-python",
   "name": "python",
   "nbconvert_exporter": "python",
   "pygments_lexer": "ipython3",
   "version": "3.10.11"
  },
  "toc": {
   "base_numbering": 1,
   "nav_menu": {},
   "number_sections": true,
   "sideBar": true,
   "skip_h1_title": true,
   "title_cell": "Содержание",
   "title_sidebar": "Contents",
   "toc_cell": true,
   "toc_position": {
    "height": "calc(100% - 180px)",
    "left": "10px",
    "top": "150px",
    "width": "199.222px"
   },
   "toc_section_display": true,
   "toc_window_display": true
  }
 },
 "nbformat": 4,
 "nbformat_minor": 4
}
