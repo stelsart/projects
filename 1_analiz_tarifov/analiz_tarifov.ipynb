{
 "cells": [
  {
   "cell_type": "markdown",
   "metadata": {},
   "source": [
    "# Построение системы анализа поведения клиентов сотового оператор"
   ]
  },
  {
   "cell_type": "markdown",
   "metadata": {},
   "source": [
    "## Изучение данных"
   ]
  },
  {
   "cell_type": "code",
   "execution_count": 1,
   "metadata": {},
   "outputs": [],
   "source": [
    "import pandas as pd\n",
    "from sklearn.model_selection import train_test_split\n",
    "from sklearn.tree import DecisionTreeClassifier\n",
    "from sklearn.ensemble import RandomForestClassifier\n",
    "from sklearn.metrics import accuracy_score"
   ]
  },
  {
   "cell_type": "code",
   "execution_count": 2,
   "metadata": {},
   "outputs": [],
   "source": [
    "try:\n",
    "    df = pd.read_csv('/datasets/users_behavior.csv')\n",
    "except:\n",
    "    df = pd.read_csv('C:/documents/datasets/users_behavior.csv')"
   ]
  },
  {
   "cell_type": "code",
   "execution_count": 3,
   "metadata": {},
   "outputs": [
    {
     "data": {
      "text/html": [
       "<div>\n",
       "<style scoped>\n",
       "    .dataframe tbody tr th:only-of-type {\n",
       "        vertical-align: middle;\n",
       "    }\n",
       "\n",
       "    .dataframe tbody tr th {\n",
       "        vertical-align: top;\n",
       "    }\n",
       "\n",
       "    .dataframe thead th {\n",
       "        text-align: right;\n",
       "    }\n",
       "</style>\n",
       "<table border=\"1\" class=\"dataframe\">\n",
       "  <thead>\n",
       "    <tr style=\"text-align: right;\">\n",
       "      <th></th>\n",
       "      <th>calls</th>\n",
       "      <th>minutes</th>\n",
       "      <th>messages</th>\n",
       "      <th>mb_used</th>\n",
       "      <th>is_ultra</th>\n",
       "    </tr>\n",
       "  </thead>\n",
       "  <tbody>\n",
       "    <tr>\n",
       "      <th>0</th>\n",
       "      <td>40.0</td>\n",
       "      <td>311.90</td>\n",
       "      <td>83.0</td>\n",
       "      <td>19915.42</td>\n",
       "      <td>0</td>\n",
       "    </tr>\n",
       "    <tr>\n",
       "      <th>1</th>\n",
       "      <td>85.0</td>\n",
       "      <td>516.75</td>\n",
       "      <td>56.0</td>\n",
       "      <td>22696.96</td>\n",
       "      <td>0</td>\n",
       "    </tr>\n",
       "    <tr>\n",
       "      <th>2</th>\n",
       "      <td>77.0</td>\n",
       "      <td>467.66</td>\n",
       "      <td>86.0</td>\n",
       "      <td>21060.45</td>\n",
       "      <td>0</td>\n",
       "    </tr>\n",
       "    <tr>\n",
       "      <th>3</th>\n",
       "      <td>106.0</td>\n",
       "      <td>745.53</td>\n",
       "      <td>81.0</td>\n",
       "      <td>8437.39</td>\n",
       "      <td>1</td>\n",
       "    </tr>\n",
       "    <tr>\n",
       "      <th>4</th>\n",
       "      <td>66.0</td>\n",
       "      <td>418.74</td>\n",
       "      <td>1.0</td>\n",
       "      <td>14502.75</td>\n",
       "      <td>0</td>\n",
       "    </tr>\n",
       "    <tr>\n",
       "      <th>...</th>\n",
       "      <td>...</td>\n",
       "      <td>...</td>\n",
       "      <td>...</td>\n",
       "      <td>...</td>\n",
       "      <td>...</td>\n",
       "    </tr>\n",
       "    <tr>\n",
       "      <th>3209</th>\n",
       "      <td>122.0</td>\n",
       "      <td>910.98</td>\n",
       "      <td>20.0</td>\n",
       "      <td>35124.90</td>\n",
       "      <td>1</td>\n",
       "    </tr>\n",
       "    <tr>\n",
       "      <th>3210</th>\n",
       "      <td>25.0</td>\n",
       "      <td>190.36</td>\n",
       "      <td>0.0</td>\n",
       "      <td>3275.61</td>\n",
       "      <td>0</td>\n",
       "    </tr>\n",
       "    <tr>\n",
       "      <th>3211</th>\n",
       "      <td>97.0</td>\n",
       "      <td>634.44</td>\n",
       "      <td>70.0</td>\n",
       "      <td>13974.06</td>\n",
       "      <td>0</td>\n",
       "    </tr>\n",
       "    <tr>\n",
       "      <th>3212</th>\n",
       "      <td>64.0</td>\n",
       "      <td>462.32</td>\n",
       "      <td>90.0</td>\n",
       "      <td>31239.78</td>\n",
       "      <td>0</td>\n",
       "    </tr>\n",
       "    <tr>\n",
       "      <th>3213</th>\n",
       "      <td>80.0</td>\n",
       "      <td>566.09</td>\n",
       "      <td>6.0</td>\n",
       "      <td>29480.52</td>\n",
       "      <td>1</td>\n",
       "    </tr>\n",
       "  </tbody>\n",
       "</table>\n",
       "<p>3214 rows × 5 columns</p>\n",
       "</div>"
      ],
      "text/plain": [
       "      calls  minutes  messages   mb_used  is_ultra\n",
       "0      40.0   311.90      83.0  19915.42         0\n",
       "1      85.0   516.75      56.0  22696.96         0\n",
       "2      77.0   467.66      86.0  21060.45         0\n",
       "3     106.0   745.53      81.0   8437.39         1\n",
       "4      66.0   418.74       1.0  14502.75         0\n",
       "...     ...      ...       ...       ...       ...\n",
       "3209  122.0   910.98      20.0  35124.90         1\n",
       "3210   25.0   190.36       0.0   3275.61         0\n",
       "3211   97.0   634.44      70.0  13974.06         0\n",
       "3212   64.0   462.32      90.0  31239.78         0\n",
       "3213   80.0   566.09       6.0  29480.52         1\n",
       "\n",
       "[3214 rows x 5 columns]"
      ]
     },
     "metadata": {},
     "output_type": "display_data"
    },
    {
     "name": "stdout",
     "output_type": "stream",
     "text": [
      "<class 'pandas.core.frame.DataFrame'>\n",
      "RangeIndex: 3214 entries, 0 to 3213\n",
      "Data columns (total 5 columns):\n",
      " #   Column    Non-Null Count  Dtype  \n",
      "---  ------    --------------  -----  \n",
      " 0   calls     3214 non-null   float64\n",
      " 1   minutes   3214 non-null   float64\n",
      " 2   messages  3214 non-null   float64\n",
      " 3   mb_used   3214 non-null   float64\n",
      " 4   is_ultra  3214 non-null   int64  \n",
      "dtypes: float64(4), int64(1)\n",
      "memory usage: 125.7 KB\n"
     ]
    },
    {
     "data": {
      "text/plain": [
       "'calls'"
      ]
     },
     "metadata": {},
     "output_type": "display_data"
    },
    {
     "data": {
      "text/plain": [
       "count    3214.000000\n",
       "mean       63.038892\n",
       "std        33.236368\n",
       "min         0.000000\n",
       "25%        40.000000\n",
       "50%        62.000000\n",
       "75%        82.000000\n",
       "max       244.000000\n",
       "Name: calls, dtype: float64"
      ]
     },
     "metadata": {},
     "output_type": "display_data"
    },
    {
     "data": {
      "text/plain": [
       "'minutes'"
      ]
     },
     "metadata": {},
     "output_type": "display_data"
    },
    {
     "data": {
      "text/plain": [
       "count    3214.000000\n",
       "mean      438.208787\n",
       "std       234.569872\n",
       "min         0.000000\n",
       "25%       274.575000\n",
       "50%       430.600000\n",
       "75%       571.927500\n",
       "max      1632.060000\n",
       "Name: minutes, dtype: float64"
      ]
     },
     "metadata": {},
     "output_type": "display_data"
    },
    {
     "data": {
      "text/plain": [
       "'messages'"
      ]
     },
     "metadata": {},
     "output_type": "display_data"
    },
    {
     "data": {
      "text/plain": [
       "count    3214.000000\n",
       "mean       38.281269\n",
       "std        36.148326\n",
       "min         0.000000\n",
       "25%         9.000000\n",
       "50%        30.000000\n",
       "75%        57.000000\n",
       "max       224.000000\n",
       "Name: messages, dtype: float64"
      ]
     },
     "metadata": {},
     "output_type": "display_data"
    },
    {
     "data": {
      "text/plain": [
       "'mb_used'"
      ]
     },
     "metadata": {},
     "output_type": "display_data"
    },
    {
     "data": {
      "text/plain": [
       "count     3214.000000\n",
       "mean     17207.673836\n",
       "std       7570.968246\n",
       "min          0.000000\n",
       "25%      12491.902500\n",
       "50%      16943.235000\n",
       "75%      21424.700000\n",
       "max      49745.730000\n",
       "Name: mb_used, dtype: float64"
      ]
     },
     "metadata": {},
     "output_type": "display_data"
    },
    {
     "data": {
      "text/plain": [
       "'is_ultra'"
      ]
     },
     "metadata": {},
     "output_type": "display_data"
    },
    {
     "data": {
      "text/plain": [
       "count    3214.000000\n",
       "mean        0.306472\n",
       "std         0.461100\n",
       "min         0.000000\n",
       "25%         0.000000\n",
       "50%         0.000000\n",
       "75%         1.000000\n",
       "max         1.000000\n",
       "Name: is_ultra, dtype: float64"
      ]
     },
     "metadata": {},
     "output_type": "display_data"
    },
    {
     "data": {
      "text/plain": [
       "0    2229\n",
       "1     985\n",
       "Name: is_ultra, dtype: int64"
      ]
     },
     "metadata": {},
     "output_type": "display_data"
    }
   ],
   "source": [
    "display(df)\n",
    "df.info()\n",
    "for i in df:\n",
    "    display(i)\n",
    "    display(df[i].describe())\n",
    "display(df['is_ultra'].value_counts())"
   ]
  },
  {
   "cell_type": "markdown",
   "metadata": {},
   "source": [
    "В датасете мы наблюдаем данные поведения 3214 клиентов. По кол-ву звонков в месяц от 0 до 244, в среднем 63 штуки. По минутам разговора от 0 до 1632 минут, в среднем 438 минут. Сообщения от 0 до 224, в среднем 38 штук. Интернет от 0 до 49745 мб, в среднем 17207 мб. Тарфиы - Ultra - 985 шт и Smart - 2229 шт."
   ]
  },
  {
   "cell_type": "markdown",
   "metadata": {},
   "source": [
    "<div class=\"alert-success\"> \n",
    "<b>Комментарий ревьюера 👍</b>\n",
    "\n",
    "Хороший первичный анализ данных"
   ]
  },
  {
   "cell_type": "markdown",
   "metadata": {},
   "source": [
    "## Разделение данных на выборки"
   ]
  },
  {
   "cell_type": "code",
   "execution_count": 9,
   "metadata": {},
   "outputs": [
    {
     "name": "stdout",
     "output_type": "stream",
     "text": [
      "Обучающая: (1928, 4) (1928,)\n",
      "Валидационная: (643, 4) (643,)\n",
      "Тестовая: (643, 4) (643,)\n"
     ]
    }
   ],
   "source": [
    "features = df.drop(['is_ultra'], axis=1)\n",
    "target = df['is_ultra']\n",
    "features_train, features_1, target_train, target_1 = train_test_split(\n",
    "    features, target, test_size=0.4, random_state=12345)\n",
    "features_valid, features_test, target_valid, target_test = train_test_split(\n",
    "    features_1, target_1, test_size=0.5, random_state=12345)\n",
    "print('Обучающая:', features_train.shape, target_train.shape)\n",
    "print('Валидационная:', features_valid.shape, target_valid.shape)\n",
    "print('Тестовая:', features_test.shape, target_test.shape)"
   ]
  },
  {
   "cell_type": "markdown",
   "metadata": {},
   "source": [
    "Разбили датасет на 3 выборки - обучающая, валидационная и тестовая 60 на 20 на 20."
   ]
  },
  {
   "cell_type": "markdown",
   "metadata": {},
   "source": [
    "## Исследование моделей"
   ]
  },
  {
   "cell_type": "markdown",
   "metadata": {},
   "source": [
    "1. модель дерева решений"
   ]
  },
  {
   "cell_type": "code",
   "execution_count": 10,
   "metadata": {
    "scrolled": true
   },
   "outputs": [
    {
     "name": "stdout",
     "output_type": "stream",
     "text": [
      "Доля правильных ответов: 0.7853810264385692\n",
      "Максимальная глубина: 3\n",
      "Критерий: gini\n",
      "Разделитель: best\n"
     ]
    }
   ],
   "source": [
    "best_model_tree = None\n",
    "best_result_tree = 0\n",
    "max_depth_tree = 0\n",
    "criterion_tree = None\n",
    "splitter_tree = None\n",
    "for i in range(1, 6):\n",
    "    for c in 'gini', 'entropy':\n",
    "        for s in 'best', 'random':\n",
    "            model_tree = DecisionTreeClassifier(random_state=12345, max_depth=i, criterion = c, splitter = s)\n",
    "            model_tree.fit(features_train, target_train)\n",
    "            predictions = model_tree.predict(features_valid)\n",
    "            result = accuracy_score(target_valid, predictions)\n",
    "            if result > best_result_tree:\n",
    "                best_model_tree = model_tree\n",
    "                best_result_tree = result\n",
    "                max_depth_tree = i\n",
    "                criterion_tree = c\n",
    "                splitter_tree = s\n",
    "        \n",
    "print('Доля правильных ответов:', best_result_tree)\n",
    "print('Максимальная глубина:', max_depth_tree)\n",
    "print('Критерий:', criterion_tree)\n",
    "print('Разделитель:', splitter_tree)"
   ]
  },
  {
   "cell_type": "markdown",
   "metadata": {},
   "source": [
    "Мы обучили модель дерева решений и при проверке ее на валидационной выборке получили лучшую долю правильных ответов 78% при следующих гиперпараметрах: макимальная глубина - 3, критерий - gini,  разделитель - best."
   ]
  },
  {
   "cell_type": "markdown",
   "metadata": {},
   "source": [
    "2. Исследуем модель случайного леса"
   ]
  },
  {
   "cell_type": "code",
   "execution_count": 11,
   "metadata": {},
   "outputs": [
    {
     "name": "stdout",
     "output_type": "stream",
     "text": [
      "Доля правильных ответов: 0.7947122861586314\n",
      "Количество деревьев: 23\n",
      "Min число выборок: 2\n",
      "Кол-во функций: sqrt\n"
     ]
    }
   ],
   "source": [
    "best_model_forest = None\n",
    "best_result_forest = 0\n",
    "n_estimators_forest = 0\n",
    "min_samples_split_forest = 0\n",
    "max_features_forest = None\n",
    "for i in range(1, 100):\n",
    "    for m in range (2, 4):\n",
    "        for s in 'sqrt', 'log2':\n",
    "            model_forest = RandomForestClassifier(random_state=12345, n_estimators=i, min_samples_split=m, max_features = s)\n",
    "            model_forest.fit(features_train, target_train)\n",
    "            predictions = model_forest.predict(features_valid)\n",
    "            result = accuracy_score(target_valid, predictions)\n",
    "            if result > best_result_forest:\n",
    "                best_model_forest = model_forest\n",
    "                best_result_forest = result\n",
    "                n_estimators_forest = i\n",
    "                min_samples_split_forest = m\n",
    "                max_features_forest = s\n",
    "        \n",
    "print('Доля правильных ответов:', best_result_forest)\n",
    "print('Количество деревьев:', n_estimators_forest)\n",
    "print('Min число выборок:', min_samples_split_forest)\n",
    "print('Кол-во функций:', max_features_forest)"
   ]
  },
  {
   "cell_type": "markdown",
   "metadata": {},
   "source": [
    "Мы обучили модель случайного леса и при проверке ее на валидационной выборке получили лучшую долю правильных ответов 79% при следующих гиперпараметрах: количество деревьев - 23, min число выборок - 2,  кол-во функций - sqrt."
   ]
  },
  {
   "cell_type": "markdown",
   "metadata": {},
   "source": [
    "## Проверка модели на тестовой выборке"
   ]
  },
  {
   "cell_type": "markdown",
   "metadata": {},
   "source": [
    "1. Проверяем модель дерева решений"
   ]
  },
  {
   "cell_type": "code",
   "execution_count": 13,
   "metadata": {},
   "outputs": [
    {
     "data": {
      "text/plain": [
       "0.7791601866251944"
      ]
     },
     "metadata": {},
     "output_type": "display_data"
    }
   ],
   "source": [
    "predictions_tree = best_model_tree.predict(features_test)\n",
    "result_tree = accuracy_score(target_test, predictions_tree)\n",
    "display(result_tree)"
   ]
  },
  {
   "cell_type": "markdown",
   "metadata": {},
   "source": [
    "При проверке модели дерева решений с лучшими параметрами на тестовой выборке мы получили долю правильных ответов 78%. Праметр укладывается в ТЗ - болеее 75%"
   ]
  },
  {
   "cell_type": "markdown",
   "metadata": {},
   "source": [
    "2. Проверяем модель случайного леса"
   ]
  },
  {
   "cell_type": "code",
   "execution_count": 14,
   "metadata": {},
   "outputs": [
    {
     "data": {
      "text/plain": [
       "0.7807153965785381"
      ]
     },
     "metadata": {},
     "output_type": "display_data"
    }
   ],
   "source": [
    "predictions_forest = best_model_forest.predict(features_test)\n",
    "result_forest = accuracy_score(target_test, predictions_forest)\n",
    "display(result_forest)"
   ]
  },
  {
   "cell_type": "markdown",
   "metadata": {},
   "source": [
    "При проверке модели случайного леса c лучшими параметрами на тестовой выборке мы получили долю правильных ответов 78%. Праметр укладывается в ТЗ - болеее 75%. "
   ]
  },
  {
   "cell_type": "markdown",
   "metadata": {},
   "source": [
    "Поскольку скорость работы модели дерева решений быстрее случайного леса и на тестовой выборке доля правильных ответов у моделей сопостовимы - рекомендуется использовать модель деерва решений для данной задачи"
   ]
  },
  {
   "cell_type": "code",
   "execution_count": null,
   "metadata": {},
   "outputs": [],
   "source": []
  }
 ],
 "metadata": {
  "ExecuteTimeLog": [
   {
    "duration": 1116,
    "start_time": "2023-07-14T18:37:53.515Z"
   },
   {
    "duration": 105,
    "start_time": "2023-07-14T18:37:54.633Z"
   },
   {
    "duration": 122,
    "start_time": "2023-07-14T18:38:10.164Z"
   },
   {
    "duration": 65,
    "start_time": "2023-07-14T18:38:30.336Z"
   },
   {
    "duration": 7,
    "start_time": "2023-07-14T18:42:10.027Z"
   },
   {
    "duration": 9,
    "start_time": "2023-07-14T18:47:38.897Z"
   },
   {
    "duration": 60,
    "start_time": "2023-07-14T18:59:31.017Z"
   },
   {
    "duration": 31,
    "start_time": "2023-07-14T19:10:02.978Z"
   },
   {
    "duration": 133,
    "start_time": "2023-07-14T19:11:34.849Z"
   },
   {
    "duration": 35,
    "start_time": "2023-07-14T19:11:59.429Z"
   },
   {
    "duration": 39,
    "start_time": "2023-07-14T19:18:16.899Z"
   },
   {
    "duration": 31,
    "start_time": "2023-07-14T19:18:21.097Z"
   },
   {
    "duration": 31,
    "start_time": "2023-07-14T19:18:24.608Z"
   },
   {
    "duration": 11,
    "start_time": "2023-07-14T19:20:37.378Z"
   },
   {
    "duration": 851,
    "start_time": "2023-07-14T19:24:49.178Z"
   },
   {
    "duration": 29,
    "start_time": "2023-07-14T19:25:58.858Z"
   },
   {
    "duration": 30,
    "start_time": "2023-07-14T19:26:47.095Z"
   },
   {
    "duration": 33,
    "start_time": "2023-07-14T19:27:50.639Z"
   },
   {
    "duration": 11,
    "start_time": "2023-07-14T19:28:12.139Z"
   },
   {
    "duration": 69,
    "start_time": "2023-07-14T19:29:58.080Z"
   },
   {
    "duration": 31,
    "start_time": "2023-07-14T19:31:23.658Z"
   },
   {
    "duration": 10,
    "start_time": "2023-07-14T19:31:36.461Z"
   },
   {
    "duration": 8,
    "start_time": "2023-07-14T19:32:53.149Z"
   },
   {
    "duration": 34,
    "start_time": "2023-07-14T19:34:11.194Z"
   },
   {
    "duration": 7,
    "start_time": "2023-07-14T19:34:32.905Z"
   },
   {
    "duration": 77,
    "start_time": "2023-07-14T19:36:37.624Z"
   },
   {
    "duration": 105,
    "start_time": "2023-07-14T19:53:31.096Z"
   },
   {
    "duration": 30,
    "start_time": "2023-07-14T19:53:53.096Z"
   },
   {
    "duration": 87,
    "start_time": "2023-07-14T19:56:08.078Z"
   },
   {
    "duration": 88,
    "start_time": "2023-07-14T19:56:29.764Z"
   },
   {
    "duration": 78,
    "start_time": "2023-07-14T19:56:47.754Z"
   },
   {
    "duration": 15447,
    "start_time": "2023-07-14T20:10:53.001Z"
   },
   {
    "duration": 60746,
    "start_time": "2023-07-14T20:11:23.741Z"
   },
   {
    "duration": 14,
    "start_time": "2023-07-14T20:15:12.374Z"
   },
   {
    "duration": 1626,
    "start_time": "2023-07-14T22:33:22.078Z"
   },
   {
    "duration": 113,
    "start_time": "2023-07-14T22:33:23.706Z"
   },
   {
    "duration": 54,
    "start_time": "2023-07-14T22:33:23.821Z"
   },
   {
    "duration": 7,
    "start_time": "2023-07-14T22:33:23.877Z"
   },
   {
    "duration": 83,
    "start_time": "2023-07-14T22:33:28.353Z"
   },
   {
    "duration": 1104,
    "start_time": "2023-07-15T09:38:36.052Z"
   },
   {
    "duration": 66,
    "start_time": "2023-07-15T09:38:39.665Z"
   },
   {
    "duration": 59,
    "start_time": "2023-07-15T09:38:42.312Z"
   },
   {
    "duration": 104,
    "start_time": "2023-07-15T09:39:10.571Z"
   },
   {
    "duration": 13,
    "start_time": "2023-07-15T09:39:55.860Z"
   },
   {
    "duration": 9,
    "start_time": "2023-07-15T09:40:03.092Z"
   },
   {
    "duration": 16,
    "start_time": "2023-07-15T09:42:05.592Z"
   },
   {
    "duration": 10,
    "start_time": "2023-07-15T09:42:21.202Z"
   },
   {
    "duration": 11,
    "start_time": "2023-07-15T09:44:38.640Z"
   },
   {
    "duration": 96,
    "start_time": "2023-07-15T09:44:53.872Z"
   },
   {
    "duration": 81121,
    "start_time": "2023-07-15T09:45:42.440Z"
   },
   {
    "duration": 6,
    "start_time": "2023-07-15T09:47:03.563Z"
   },
   {
    "duration": 6,
    "start_time": "2023-07-15T09:49:34.422Z"
   },
   {
    "duration": 12,
    "start_time": "2023-07-15T09:49:48.652Z"
   }
  ],
  "kernelspec": {
   "display_name": "Python 3 (ipykernel)",
   "language": "python",
   "name": "python3"
  },
  "language_info": {
   "codemirror_mode": {
    "name": "ipython",
    "version": 3
   },
   "file_extension": ".py",
   "mimetype": "text/x-python",
   "name": "python",
   "nbconvert_exporter": "python",
   "pygments_lexer": "ipython3",
   "version": "3.10.11"
  },
  "toc": {
   "base_numbering": 1,
   "nav_menu": {},
   "number_sections": true,
   "sideBar": true,
   "skip_h1_title": true,
   "title_cell": "Table of Contents",
   "title_sidebar": "Contents",
   "toc_cell": false,
   "toc_position": {},
   "toc_section_display": true,
   "toc_window_display": false
  }
 },
 "nbformat": 4,
 "nbformat_minor": 4
}
