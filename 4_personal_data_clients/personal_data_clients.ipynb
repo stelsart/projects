{
 "cells": [
  {
   "cell_type": "markdown",
   "metadata": {},
   "source": [
    "# Защита персональных данных клиентов"
   ]
  },
  {
   "cell_type": "markdown",
   "metadata": {},
   "source": [
    "## Загрузка данных"
   ]
  },
  {
   "cell_type": "code",
   "execution_count": 1,
   "metadata": {},
   "outputs": [],
   "source": [
    "import numpy as np\n",
    "from numpy.linalg import inv\n",
    "import pandas as pd\n",
    "import seaborn as sns\n",
    "from sklearn.linear_model import LinearRegression\n",
    "from sklearn.metrics import r2_score\n",
    "from sklearn.model_selection import train_test_split"
   ]
  },
  {
   "cell_type": "code",
   "execution_count": 2,
   "metadata": {},
   "outputs": [],
   "source": [
    "try:\n",
    "    df = pd.read_csv('/datasets/insurance.csv')\n",
    "    \n",
    "except:\n",
    "    df =  pd.read_csv('C:/documents/datasets/insurance.csv')"
   ]
  },
  {
   "cell_type": "code",
   "execution_count": 3,
   "metadata": {},
   "outputs": [
    {
     "data": {
      "text/html": [
       "<div>\n",
       "<style scoped>\n",
       "    .dataframe tbody tr th:only-of-type {\n",
       "        vertical-align: middle;\n",
       "    }\n",
       "\n",
       "    .dataframe tbody tr th {\n",
       "        vertical-align: top;\n",
       "    }\n",
       "\n",
       "    .dataframe thead th {\n",
       "        text-align: right;\n",
       "    }\n",
       "</style>\n",
       "<table border=\"1\" class=\"dataframe\">\n",
       "  <thead>\n",
       "    <tr style=\"text-align: right;\">\n",
       "      <th></th>\n",
       "      <th>Пол</th>\n",
       "      <th>Возраст</th>\n",
       "      <th>Зарплата</th>\n",
       "      <th>Члены семьи</th>\n",
       "      <th>Страховые выплаты</th>\n",
       "    </tr>\n",
       "  </thead>\n",
       "  <tbody>\n",
       "    <tr>\n",
       "      <th>0</th>\n",
       "      <td>1</td>\n",
       "      <td>41.0</td>\n",
       "      <td>49600.0</td>\n",
       "      <td>1</td>\n",
       "      <td>0</td>\n",
       "    </tr>\n",
       "    <tr>\n",
       "      <th>1</th>\n",
       "      <td>0</td>\n",
       "      <td>46.0</td>\n",
       "      <td>38000.0</td>\n",
       "      <td>1</td>\n",
       "      <td>1</td>\n",
       "    </tr>\n",
       "    <tr>\n",
       "      <th>2</th>\n",
       "      <td>0</td>\n",
       "      <td>29.0</td>\n",
       "      <td>21000.0</td>\n",
       "      <td>0</td>\n",
       "      <td>0</td>\n",
       "    </tr>\n",
       "    <tr>\n",
       "      <th>3</th>\n",
       "      <td>0</td>\n",
       "      <td>21.0</td>\n",
       "      <td>41700.0</td>\n",
       "      <td>2</td>\n",
       "      <td>0</td>\n",
       "    </tr>\n",
       "    <tr>\n",
       "      <th>4</th>\n",
       "      <td>1</td>\n",
       "      <td>28.0</td>\n",
       "      <td>26100.0</td>\n",
       "      <td>0</td>\n",
       "      <td>0</td>\n",
       "    </tr>\n",
       "    <tr>\n",
       "      <th>...</th>\n",
       "      <td>...</td>\n",
       "      <td>...</td>\n",
       "      <td>...</td>\n",
       "      <td>...</td>\n",
       "      <td>...</td>\n",
       "    </tr>\n",
       "    <tr>\n",
       "      <th>4995</th>\n",
       "      <td>0</td>\n",
       "      <td>28.0</td>\n",
       "      <td>35700.0</td>\n",
       "      <td>2</td>\n",
       "      <td>0</td>\n",
       "    </tr>\n",
       "    <tr>\n",
       "      <th>4996</th>\n",
       "      <td>0</td>\n",
       "      <td>34.0</td>\n",
       "      <td>52400.0</td>\n",
       "      <td>1</td>\n",
       "      <td>0</td>\n",
       "    </tr>\n",
       "    <tr>\n",
       "      <th>4997</th>\n",
       "      <td>0</td>\n",
       "      <td>20.0</td>\n",
       "      <td>33900.0</td>\n",
       "      <td>2</td>\n",
       "      <td>0</td>\n",
       "    </tr>\n",
       "    <tr>\n",
       "      <th>4998</th>\n",
       "      <td>1</td>\n",
       "      <td>22.0</td>\n",
       "      <td>32700.0</td>\n",
       "      <td>3</td>\n",
       "      <td>0</td>\n",
       "    </tr>\n",
       "    <tr>\n",
       "      <th>4999</th>\n",
       "      <td>1</td>\n",
       "      <td>28.0</td>\n",
       "      <td>40600.0</td>\n",
       "      <td>1</td>\n",
       "      <td>0</td>\n",
       "    </tr>\n",
       "  </tbody>\n",
       "</table>\n",
       "<p>5000 rows × 5 columns</p>\n",
       "</div>"
      ],
      "text/plain": [
       "      Пол  Возраст  Зарплата  Члены семьи  Страховые выплаты\n",
       "0       1     41.0   49600.0            1                  0\n",
       "1       0     46.0   38000.0            1                  1\n",
       "2       0     29.0   21000.0            0                  0\n",
       "3       0     21.0   41700.0            2                  0\n",
       "4       1     28.0   26100.0            0                  0\n",
       "...   ...      ...       ...          ...                ...\n",
       "4995    0     28.0   35700.0            2                  0\n",
       "4996    0     34.0   52400.0            1                  0\n",
       "4997    0     20.0   33900.0            2                  0\n",
       "4998    1     22.0   32700.0            3                  0\n",
       "4999    1     28.0   40600.0            1                  0\n",
       "\n",
       "[5000 rows x 5 columns]"
      ]
     },
     "metadata": {},
     "output_type": "display_data"
    },
    {
     "name": "stdout",
     "output_type": "stream",
     "text": [
      "<class 'pandas.core.frame.DataFrame'>\n",
      "RangeIndex: 5000 entries, 0 to 4999\n",
      "Data columns (total 5 columns):\n",
      " #   Column             Non-Null Count  Dtype  \n",
      "---  ------             --------------  -----  \n",
      " 0   Пол                5000 non-null   int64  \n",
      " 1   Возраст            5000 non-null   float64\n",
      " 2   Зарплата           5000 non-null   float64\n",
      " 3   Члены семьи        5000 non-null   int64  \n",
      " 4   Страховые выплаты  5000 non-null   int64  \n",
      "dtypes: float64(2), int64(3)\n",
      "memory usage: 195.4 KB\n"
     ]
    },
    {
     "data": {
      "text/plain": [
       "None"
      ]
     },
     "metadata": {},
     "output_type": "display_data"
    },
    {
     "data": {
      "text/html": [
       "<div>\n",
       "<style scoped>\n",
       "    .dataframe tbody tr th:only-of-type {\n",
       "        vertical-align: middle;\n",
       "    }\n",
       "\n",
       "    .dataframe tbody tr th {\n",
       "        vertical-align: top;\n",
       "    }\n",
       "\n",
       "    .dataframe thead th {\n",
       "        text-align: right;\n",
       "    }\n",
       "</style>\n",
       "<table border=\"1\" class=\"dataframe\">\n",
       "  <thead>\n",
       "    <tr style=\"text-align: right;\">\n",
       "      <th></th>\n",
       "      <th>Пол</th>\n",
       "      <th>Возраст</th>\n",
       "      <th>Зарплата</th>\n",
       "      <th>Члены семьи</th>\n",
       "      <th>Страховые выплаты</th>\n",
       "    </tr>\n",
       "  </thead>\n",
       "  <tbody>\n",
       "    <tr>\n",
       "      <th>count</th>\n",
       "      <td>5000.000000</td>\n",
       "      <td>5000.000000</td>\n",
       "      <td>5000.000000</td>\n",
       "      <td>5000.000000</td>\n",
       "      <td>5000.000000</td>\n",
       "    </tr>\n",
       "    <tr>\n",
       "      <th>mean</th>\n",
       "      <td>0.499000</td>\n",
       "      <td>30.952800</td>\n",
       "      <td>39916.360000</td>\n",
       "      <td>1.194200</td>\n",
       "      <td>0.148000</td>\n",
       "    </tr>\n",
       "    <tr>\n",
       "      <th>std</th>\n",
       "      <td>0.500049</td>\n",
       "      <td>8.440807</td>\n",
       "      <td>9900.083569</td>\n",
       "      <td>1.091387</td>\n",
       "      <td>0.463183</td>\n",
       "    </tr>\n",
       "    <tr>\n",
       "      <th>min</th>\n",
       "      <td>0.000000</td>\n",
       "      <td>18.000000</td>\n",
       "      <td>5300.000000</td>\n",
       "      <td>0.000000</td>\n",
       "      <td>0.000000</td>\n",
       "    </tr>\n",
       "    <tr>\n",
       "      <th>25%</th>\n",
       "      <td>0.000000</td>\n",
       "      <td>24.000000</td>\n",
       "      <td>33300.000000</td>\n",
       "      <td>0.000000</td>\n",
       "      <td>0.000000</td>\n",
       "    </tr>\n",
       "    <tr>\n",
       "      <th>50%</th>\n",
       "      <td>0.000000</td>\n",
       "      <td>30.000000</td>\n",
       "      <td>40200.000000</td>\n",
       "      <td>1.000000</td>\n",
       "      <td>0.000000</td>\n",
       "    </tr>\n",
       "    <tr>\n",
       "      <th>75%</th>\n",
       "      <td>1.000000</td>\n",
       "      <td>37.000000</td>\n",
       "      <td>46600.000000</td>\n",
       "      <td>2.000000</td>\n",
       "      <td>0.000000</td>\n",
       "    </tr>\n",
       "    <tr>\n",
       "      <th>max</th>\n",
       "      <td>1.000000</td>\n",
       "      <td>65.000000</td>\n",
       "      <td>79000.000000</td>\n",
       "      <td>6.000000</td>\n",
       "      <td>5.000000</td>\n",
       "    </tr>\n",
       "  </tbody>\n",
       "</table>\n",
       "</div>"
      ],
      "text/plain": [
       "               Пол      Возраст      Зарплата  Члены семьи  Страховые выплаты\n",
       "count  5000.000000  5000.000000   5000.000000  5000.000000        5000.000000\n",
       "mean      0.499000    30.952800  39916.360000     1.194200           0.148000\n",
       "std       0.500049     8.440807   9900.083569     1.091387           0.463183\n",
       "min       0.000000    18.000000   5300.000000     0.000000           0.000000\n",
       "25%       0.000000    24.000000  33300.000000     0.000000           0.000000\n",
       "50%       0.000000    30.000000  40200.000000     1.000000           0.000000\n",
       "75%       1.000000    37.000000  46600.000000     2.000000           0.000000\n",
       "max       1.000000    65.000000  79000.000000     6.000000           5.000000"
      ]
     },
     "metadata": {},
     "output_type": "display_data"
    },
    {
     "data": {
      "text/plain": [
       "False    4847\n",
       "True      153\n",
       "dtype: int64"
      ]
     },
     "metadata": {},
     "output_type": "display_data"
    },
    {
     "data": {
      "text/plain": [
       "0    2505\n",
       "1    2495\n",
       "Name: Пол, dtype: int64"
      ]
     },
     "metadata": {},
     "output_type": "display_data"
    },
    {
     "data": {
      "text/plain": [
       "0    0.8872\n",
       "1    0.0846\n",
       "2    0.0230\n",
       "3    0.0036\n",
       "4    0.0014\n",
       "5    0.0002\n",
       "Name: Страховые выплаты, dtype: float64"
      ]
     },
     "metadata": {},
     "output_type": "display_data"
    }
   ],
   "source": [
    "display(df)\n",
    "display(df.info())\n",
    "display(df.describe())\n",
    "display(df.duplicated().value_counts())\n",
    "display(df['Пол'].value_counts())\n",
    "display(df['Страховые выплаты'].value_counts(normalize=True))"
   ]
  },
  {
   "cell_type": "code",
   "execution_count": 4,
   "metadata": {},
   "outputs": [
    {
     "data": {
      "image/png": "[encoded data removed]",
      "text/plain": [
       "<Figure size 834.5x720 with 20 Axes>"
      ]
     },
     "metadata": {
      "needs_background": "light"
     },
     "output_type": "display_data"
    }
   ],
   "source": [
    "sns.pairplot(df, hue='Страховые выплаты', diag_kind='hist');"
   ]
  },
  {
   "cell_type": "markdown",
   "metadata": {},
   "source": [
    "В датасете 5 тыс данных клиентов. С типами данных все в порядке, пропусков нет, есть 153 дуюликата, но возможно это не дубликаты, тк данных не хватает, для точной установки этого факта. Средний возвраст 30 лет (от 18 до 65 оет), средняя зарплата 39 тыс (от 5.3 до 79 тыс), в среднем 1 член семьи (0 до 6). Соотношение пола 0 и 1 примерно 50 на 50. Стаховых случаев в среднем 0 (от 0 до 5). В 89% без страховых случаев, в 8% - 1 страх. случай, в 2% - 2 случая, 3-5 случаев суммарно 0.5%. На хитмэпе видим что больше всего страховые выплаты зависят от возраста."
   ]
  },
  {
   "cell_type": "markdown",
   "metadata": {},
   "source": [
    "## Умножение матриц"
   ]
  },
  {
   "cell_type": "markdown",
   "metadata": {},
   "source": [
    "В этом задании вы можете записывать формулы в *Jupyter Notebook.*\n",
    "\n",
    "Чтобы записать формулу внутри текста, окружите её символами доллара \\\\$; если снаружи —  двойными символами \\\\$\\\\$. Эти формулы записываются на языке вёрстки *LaTeX.* \n",
    "\n",
    "Для примера мы записали формулы линейной регрессии. Можете их скопировать и отредактировать, чтобы решить задачу.\n",
    "\n",
    "Работать в *LaTeX* необязательно."
   ]
  },
  {
   "cell_type": "markdown",
   "metadata": {},
   "source": [
    "Обозначения:\n",
    "\n",
    "- $X$ — матрица признаков (нулевой столбец состоит из единиц)\n",
    "\n",
    "- $y$ — вектор целевого признака\n",
    "\n",
    "- $P$ — матрица, на которую умножаются признаки\n",
    "\n",
    "- $w$ — вектор весов линейной регрессии (нулевой элемент равен сдвигу)"
   ]
  },
  {
   "cell_type": "markdown",
   "metadata": {},
   "source": [
    "Предсказания:\n",
    "\n",
    "$$\n",
    "a = Xw\n",
    "$$\n",
    "\n",
    "Задача обучения:\n",
    "\n",
    "$$\n",
    "w = \\arg\\min_w MSE(Xw, y)\n",
    "$$\n",
    "\n",
    "Формула обучения:\n",
    "\n",
    "$$\n",
    "w = (X^T X)^{-1} X^T y\n",
    "$$\n",
    "\n",
    "Заменим матрицу X на Z = XM (умноженную на обратимую матрицу M)\n",
    "\n",
    "$$\n",
    "a1 = Zw1 = XM((XM)^T XM)^{-1} (XM)^T y = XM((M^T X^T X M)^{-1} M^T X^T y = XM M^{-1} ((X^T X)^{-1} M^T^{-1} M^T X^T y = \n",
    "X E ((X^T X)^{-1} E X^T y = X (X^T X)^{-1} X^T y\n",
    "$$\n",
    "\n",
    "Мы выновим М за скобки. M умноженное на обратную от M и M транспонированная умноженная на обратную - дадут единичные матрица при умножинии на которые ничего не меняется. \n",
    "\n",
    "$$\n",
    "w1 =  ((XM)^T XM)^{-1} (XM)^T y = (M^T X^T X M)^{-1} M^T X^T y = M^{-1}(X^T X)^{-1} M^T^{-1}M^T X^T y = \n",
    "M^{-1}(X^T X)^{-1} E X^T y =  M^{-1}(X^T X)^{-1} X^T y = M^{-1}w\n",
    "$$\n",
    "\n",
    "Получается w свяхана от w1 обратной матрицей М"
   ]
  },
  {
   "cell_type": "markdown",
   "metadata": {},
   "source": [
    "**Ответ:** При умножении параметров на обратимую матрицу каество предсказаний лин-ой регрессии ее изменится\n",
    "\n",
    "**Обоснование:** Изменение качества предсказания не происходит при умножении признаков исходных данных, на обратимую матрицу, т.к. параметры линейной регрессии в исходной данных и в преобразованных связаны между собой алгоритмом, по которому предсказание вычисляется умножения признаков исходных данных на вектор длинной равной ширине таблицы признаков, который в свою очередь умножается на целевые признаки. "
   ]
  },
  {
   "cell_type": "markdown",
   "metadata": {},
   "source": [
    "## Алгоритм преобразования"
   ]
  },
  {
   "cell_type": "markdown",
   "metadata": {},
   "source": [
    "**Алгоритм**\n",
    "\n",
    "Создается случайная квадратная матрица, размер которой соответствует количеству признаков. Затем мы проверяется, является ли эта матрица обратимой. Далее умножются признаки на эту матрицу.\n",
    "\n",
    "Для дальнейшей расшифровки данных требуется чтобы матрица обазетельно была обратимой"
   ]
  },
  {
   "cell_type": "markdown",
   "metadata": {},
   "source": [
    "**Обоснование**\n",
    "\n",
    "В разделе умножения матрц мы доказали, что умножение признков на обратимую матрицу не влияет на качество предсказаний модели. Поэтому мы можем делать эту операцию для скрытия персональных данных клиентов и безопаспно использовать эти зашифрованные данные для модели предсказаниий. "
   ]
  },
  {
   "cell_type": "markdown",
   "metadata": {},
   "source": [
    "## Проверка алгоритма"
   ]
  },
  {
   "cell_type": "code",
   "execution_count": 5,
   "metadata": {},
   "outputs": [
    {
     "name": "stdout",
     "output_type": "stream",
     "text": [
      "(3750, 4)\n",
      "(1250, 4)\n",
      "(3750,)\n",
      "(1250,)\n"
     ]
    }
   ],
   "source": [
    "features = df.drop('Страховые выплаты', axis=1)\n",
    "target = df['Страховые выплаты']\n",
    "train_features, test_features, train_target, test_target = train_test_split(features, target, \n",
    "                                                                            test_size=0.25, random_state=12345)\n",
    "print(train_features.shape)\n",
    "print(test_features.shape)\n",
    "print(train_target.shape)\n",
    "print(test_target.shape)"
   ]
  },
  {
   "cell_type": "code",
   "execution_count": 6,
   "metadata": {},
   "outputs": [
    {
     "name": "stdout",
     "output_type": "stream",
     "text": [
      "R2 классса лин. регрессии 0.43523\n"
     ]
    }
   ],
   "source": [
    "class LinearRegress:\n",
    "    def fit(self, train_features, train_target):\n",
    "        X = np.concatenate((np.ones((train_features.shape[0], 1)), train_features), axis=1)\n",
    "        y = train_target\n",
    "        w = np.linalg.inv(X.T.dot(X)).dot(X.T).dot(y)\n",
    "        self.w = w[1:]\n",
    "        self.w0 = w[0]\n",
    "\n",
    "    def predict(self, test_features):\n",
    "        return test_features.dot(self.w) + self.w0\n",
    "    \n",
    "model = LinearRegress()\n",
    "model.fit(train_features, train_target)\n",
    "predictions = model.predict(test_features)\n",
    "print('R2 классса лин. регрессии', round(r2_score(test_target, predictions), 5))"
   ]
  },
  {
   "cell_type": "code",
   "execution_count": 7,
   "metadata": {},
   "outputs": [
    {
     "name": "stdout",
     "output_type": "stream",
     "text": [
      "R2 лин. регрессии sklearn: 0.43523\n"
     ]
    }
   ],
   "source": [
    "model2 = LinearRegression()\n",
    "model2.fit(train_features, train_target)\n",
    "predictions2 = model2.predict(test_features)\n",
    "print('R2 лин. регрессии sklearn:', round(r2_score(test_target, predictions2), 5))"
   ]
  },
  {
   "cell_type": "code",
   "execution_count": 8,
   "metadata": {},
   "outputs": [
    {
     "data": {
      "text/plain": [
       "array([[-0.06989247,  0.06989247,  0.17204301, -0.06451613],\n",
       "       [-0.00967742,  0.07634409, -0.15053763,  0.07311828],\n",
       "       [ 0.15268817, -0.01935484, -0.03225806, -0.07956989],\n",
       "       [ 0.05268817, -0.11935484, -0.03225806,  0.12043011]])"
      ]
     },
     "execution_count": 8,
     "metadata": {},
     "output_type": "execute_result"
    }
   ],
   "source": [
    "mat = np.array([[7, 5, 8, 6],\n",
    "               [9, 9, 4, 2],\n",
    "               [8, 1, 2, 5],\n",
    "               [8, 7, 1, 9]])\n",
    "\n",
    "inv(mat)"
   ]
  },
  {
   "cell_type": "code",
   "execution_count": 9,
   "metadata": {},
   "outputs": [],
   "source": [
    "train_mat = train_features.dot(mat)\n",
    "train_mat.columns = train_features.columns\n",
    "test_mat = test_features.dot(mat)\n",
    "test_mat.columns = test_features.columns"
   ]
  },
  {
   "cell_type": "code",
   "execution_count": 10,
   "metadata": {},
   "outputs": [
    {
     "data": {
      "text/html": [
       "<div>\n",
       "<style scoped>\n",
       "    .dataframe tbody tr th:only-of-type {\n",
       "        vertical-align: middle;\n",
       "    }\n",
       "\n",
       "    .dataframe tbody tr th {\n",
       "        vertical-align: top;\n",
       "    }\n",
       "\n",
       "    .dataframe thead th {\n",
       "        text-align: right;\n",
       "    }\n",
       "</style>\n",
       "<table border=\"1\" class=\"dataframe\">\n",
       "  <thead>\n",
       "    <tr style=\"text-align: right;\">\n",
       "      <th></th>\n",
       "      <th>Пол</th>\n",
       "      <th>Возраст</th>\n",
       "      <th>Зарплата</th>\n",
       "      <th>Члены семьи</th>\n",
       "    </tr>\n",
       "  </thead>\n",
       "  <tbody>\n",
       "    <tr>\n",
       "      <th>3369</th>\n",
       "      <td>290002.0</td>\n",
       "      <td>36599.0</td>\n",
       "      <td>72581.0</td>\n",
       "      <td>181101.0</td>\n",
       "    </tr>\n",
       "    <tr>\n",
       "      <th>1441</th>\n",
       "      <td>461113.0</td>\n",
       "      <td>57911.0</td>\n",
       "      <td>115344.0</td>\n",
       "      <td>288074.0</td>\n",
       "    </tr>\n",
       "    <tr>\n",
       "      <th>571</th>\n",
       "      <td>329096.0</td>\n",
       "      <td>41395.0</td>\n",
       "      <td>82329.0</td>\n",
       "      <td>205573.0</td>\n",
       "    </tr>\n",
       "    <tr>\n",
       "      <th>225</th>\n",
       "      <td>361132.0</td>\n",
       "      <td>45431.0</td>\n",
       "      <td>90345.0</td>\n",
       "      <td>225581.0</td>\n",
       "    </tr>\n",
       "    <tr>\n",
       "      <th>2558</th>\n",
       "      <td>405113.0</td>\n",
       "      <td>50911.0</td>\n",
       "      <td>101334.0</td>\n",
       "      <td>253084.0</td>\n",
       "    </tr>\n",
       "    <tr>\n",
       "      <th>...</th>\n",
       "      <td>...</td>\n",
       "      <td>...</td>\n",
       "      <td>...</td>\n",
       "      <td>...</td>\n",
       "    </tr>\n",
       "    <tr>\n",
       "      <th>3497</th>\n",
       "      <td>257178.0</td>\n",
       "      <td>32478.0</td>\n",
       "      <td>64368.0</td>\n",
       "      <td>160584.0</td>\n",
       "    </tr>\n",
       "    <tr>\n",
       "      <th>3492</th>\n",
       "      <td>181884.0</td>\n",
       "      <td>22980.0</td>\n",
       "      <td>45516.0</td>\n",
       "      <td>113592.0</td>\n",
       "    </tr>\n",
       "    <tr>\n",
       "      <th>2177</th>\n",
       "      <td>357984.0</td>\n",
       "      <td>45081.0</td>\n",
       "      <td>89573.0</td>\n",
       "      <td>223597.0</td>\n",
       "    </tr>\n",
       "    <tr>\n",
       "      <th>3557</th>\n",
       "      <td>401030.0</td>\n",
       "      <td>50326.0</td>\n",
       "      <td>100292.0</td>\n",
       "      <td>250580.0</td>\n",
       "    </tr>\n",
       "    <tr>\n",
       "      <th>4578</th>\n",
       "      <td>326571.0</td>\n",
       "      <td>40971.0</td>\n",
       "      <td>81676.0</td>\n",
       "      <td>204038.0</td>\n",
       "    </tr>\n",
       "  </tbody>\n",
       "</table>\n",
       "<p>3750 rows × 4 columns</p>\n",
       "</div>"
      ],
      "text/plain": [
       "           Пол  Возраст  Зарплата  Члены семьи\n",
       "3369  290002.0  36599.0   72581.0     181101.0\n",
       "1441  461113.0  57911.0  115344.0     288074.0\n",
       "571   329096.0  41395.0   82329.0     205573.0\n",
       "225   361132.0  45431.0   90345.0     225581.0\n",
       "2558  405113.0  50911.0  101334.0     253084.0\n",
       "...        ...      ...       ...          ...\n",
       "3497  257178.0  32478.0   64368.0     160584.0\n",
       "3492  181884.0  22980.0   45516.0     113592.0\n",
       "2177  357984.0  45081.0   89573.0     223597.0\n",
       "3557  401030.0  50326.0  100292.0     250580.0\n",
       "4578  326571.0  40971.0   81676.0     204038.0\n",
       "\n",
       "[3750 rows x 4 columns]"
      ]
     },
     "metadata": {},
     "output_type": "display_data"
    },
    {
     "data": {
      "text/html": [
       "<div>\n",
       "<style scoped>\n",
       "    .dataframe tbody tr th:only-of-type {\n",
       "        vertical-align: middle;\n",
       "    }\n",
       "\n",
       "    .dataframe tbody tr th {\n",
       "        vertical-align: top;\n",
       "    }\n",
       "\n",
       "    .dataframe thead th {\n",
       "        text-align: right;\n",
       "    }\n",
       "</style>\n",
       "<table border=\"1\" class=\"dataframe\">\n",
       "  <thead>\n",
       "    <tr style=\"text-align: right;\">\n",
       "      <th></th>\n",
       "      <th>Пол</th>\n",
       "      <th>Возраст</th>\n",
       "      <th>Зарплата</th>\n",
       "      <th>Члены семьи</th>\n",
       "    </tr>\n",
       "  </thead>\n",
       "  <tbody>\n",
       "    <tr>\n",
       "      <th>3183</th>\n",
       "      <td>312329.0</td>\n",
       "      <td>39325.0</td>\n",
       "      <td>78136.0</td>\n",
       "      <td>195102.0</td>\n",
       "    </tr>\n",
       "    <tr>\n",
       "      <th>1071</th>\n",
       "      <td>345266.0</td>\n",
       "      <td>43564.0</td>\n",
       "      <td>86402.0</td>\n",
       "      <td>215618.0</td>\n",
       "    </tr>\n",
       "    <tr>\n",
       "      <th>2640</th>\n",
       "      <td>337158.0</td>\n",
       "      <td>42456.0</td>\n",
       "      <td>84364.0</td>\n",
       "      <td>210584.0</td>\n",
       "    </tr>\n",
       "    <tr>\n",
       "      <th>2282</th>\n",
       "      <td>278580.0</td>\n",
       "      <td>34980.0</td>\n",
       "      <td>69680.0</td>\n",
       "      <td>174040.0</td>\n",
       "    </tr>\n",
       "    <tr>\n",
       "      <th>1595</th>\n",
       "      <td>320401.0</td>\n",
       "      <td>40397.0</td>\n",
       "      <td>80168.0</td>\n",
       "      <td>200118.0</td>\n",
       "    </tr>\n",
       "    <tr>\n",
       "      <th>...</th>\n",
       "      <td>...</td>\n",
       "      <td>...</td>\n",
       "      <td>...</td>\n",
       "      <td>...</td>\n",
       "    </tr>\n",
       "    <tr>\n",
       "      <th>982</th>\n",
       "      <td>232482.0</td>\n",
       "      <td>29478.0</td>\n",
       "      <td>58214.0</td>\n",
       "      <td>145126.0</td>\n",
       "    </tr>\n",
       "    <tr>\n",
       "      <th>3820</th>\n",
       "      <td>463528.0</td>\n",
       "      <td>58223.0</td>\n",
       "      <td>115943.0</td>\n",
       "      <td>289599.0</td>\n",
       "    </tr>\n",
       "    <tr>\n",
       "      <th>3595</th>\n",
       "      <td>338722.0</td>\n",
       "      <td>42620.0</td>\n",
       "      <td>84748.0</td>\n",
       "      <td>211576.0</td>\n",
       "    </tr>\n",
       "    <tr>\n",
       "      <th>3513</th>\n",
       "      <td>330731.0</td>\n",
       "      <td>41629.0</td>\n",
       "      <td>82752.0</td>\n",
       "      <td>206578.0</td>\n",
       "    </tr>\n",
       "    <tr>\n",
       "      <th>1205</th>\n",
       "      <td>249249.0</td>\n",
       "      <td>31548.0</td>\n",
       "      <td>62397.0</td>\n",
       "      <td>155607.0</td>\n",
       "    </tr>\n",
       "  </tbody>\n",
       "</table>\n",
       "<p>1250 rows × 4 columns</p>\n",
       "</div>"
      ],
      "text/plain": [
       "           Пол  Возраст  Зарплата  Члены семьи\n",
       "3183  312329.0  39325.0   78136.0     195102.0\n",
       "1071  345266.0  43564.0   86402.0     215618.0\n",
       "2640  337158.0  42456.0   84364.0     210584.0\n",
       "2282  278580.0  34980.0   69680.0     174040.0\n",
       "1595  320401.0  40397.0   80168.0     200118.0\n",
       "...        ...      ...       ...          ...\n",
       "982   232482.0  29478.0   58214.0     145126.0\n",
       "3820  463528.0  58223.0  115943.0     289599.0\n",
       "3595  338722.0  42620.0   84748.0     211576.0\n",
       "3513  330731.0  41629.0   82752.0     206578.0\n",
       "1205  249249.0  31548.0   62397.0     155607.0\n",
       "\n",
       "[1250 rows x 4 columns]"
      ]
     },
     "metadata": {},
     "output_type": "display_data"
    }
   ],
   "source": [
    "display(train_mat)\n",
    "display(test_mat)"
   ]
  },
  {
   "cell_type": "code",
   "execution_count": 11,
   "metadata": {},
   "outputs": [
    {
     "name": "stdout",
     "output_type": "stream",
     "text": [
      "R2 лин. регрессии преобр. данных: 0.43523\n"
     ]
    }
   ],
   "source": [
    "model3 = LinearRegression()\n",
    "model3.fit(train_mat, train_target)\n",
    "predictions3 = model3.predict(test_mat)\n",
    "print('R2 лин. регрессии преобр. данных:', round(r2_score(test_target, predictions3), 5))"
   ]
  },
  {
   "cell_type": "markdown",
   "metadata": {},
   "source": [
    "Была сделана произвольная матрица 4 на 4 - соответвтующая по длинне нашим выборкам обучаищим и тестовым и проверяем ее на обратимость - это нужно для того чтобы была возможность восстановить данные. Далее мы умножаем тренировочные и тестовые параметры на эту матрицу и делаем обучение и предсказание модели лин. регрессии. Параметр R2 полученный на данных до преобразования и после одинковые"
   ]
  }
 ],
 "metadata": {
  "ExecuteTimeLog": [
   {
    "duration": 426,
    "start_time": "2023-09-08T13:30:43.032Z"
   },
   {
    "duration": 87,
    "start_time": "2023-09-08T13:30:45.489Z"
   },
   {
    "duration": 20,
    "start_time": "2023-09-08T13:30:50.596Z"
   },
   {
    "duration": 33,
    "start_time": "2023-09-08T13:31:19.454Z"
   },
   {
    "duration": 35,
    "start_time": "2023-09-08T13:31:32.091Z"
   },
   {
    "duration": 768,
    "start_time": "2023-09-08T14:05:52.113Z"
   },
   {
    "duration": 6,
    "start_time": "2023-09-08T14:20:36.026Z"
   },
   {
    "duration": 8,
    "start_time": "2023-09-08T14:20:51.341Z"
   },
   {
    "duration": 6,
    "start_time": "2023-09-08T14:21:08.826Z"
   },
   {
    "duration": 7,
    "start_time": "2023-09-08T14:21:15.433Z"
   },
   {
    "duration": 39,
    "start_time": "2023-09-08T14:26:10.127Z"
   },
   {
    "duration": 38,
    "start_time": "2023-09-08T14:26:26.342Z"
   },
   {
    "duration": 39,
    "start_time": "2023-09-08T14:31:06.558Z"
   },
   {
    "duration": 51,
    "start_time": "2023-09-08T14:31:37.023Z"
   },
   {
    "duration": 43,
    "start_time": "2023-09-08T14:34:09.430Z"
   },
   {
    "duration": 5,
    "start_time": "2023-09-08T14:37:34.211Z"
   },
   {
    "duration": 6,
    "start_time": "2023-09-08T14:37:52.798Z"
   },
   {
    "duration": 1113,
    "start_time": "2023-09-09T07:39:13.141Z"
   },
   {
    "duration": 79,
    "start_time": "2023-09-09T07:39:14.695Z"
   },
   {
    "duration": 64,
    "start_time": "2023-09-09T07:39:16.184Z"
   },
   {
    "duration": 110,
    "start_time": "2023-09-09T07:58:13.213Z"
   },
   {
    "duration": 3,
    "start_time": "2023-09-09T07:59:13.789Z"
   },
   {
    "duration": 11,
    "start_time": "2023-09-09T07:59:20.352Z"
   },
   {
    "duration": 3,
    "start_time": "2023-09-09T07:59:44.986Z"
   },
   {
    "duration": 30,
    "start_time": "2023-09-09T07:59:48.187Z"
   },
   {
    "duration": 55,
    "start_time": "2023-09-09T07:59:50.771Z"
   },
   {
    "duration": 14,
    "start_time": "2023-09-09T08:00:43.443Z"
   },
   {
    "duration": 11,
    "start_time": "2023-09-09T08:03:27.545Z"
   },
   {
    "duration": 11,
    "start_time": "2023-09-09T08:03:42.984Z"
   },
   {
    "duration": 8,
    "start_time": "2023-09-09T08:03:52.016Z"
   },
   {
    "duration": 9,
    "start_time": "2023-09-09T08:05:17.033Z"
   },
   {
    "duration": 10,
    "start_time": "2023-09-09T08:05:19.709Z"
   },
   {
    "duration": 8,
    "start_time": "2023-09-09T08:06:18.701Z"
   },
   {
    "duration": 9,
    "start_time": "2023-09-09T08:06:24.532Z"
   },
   {
    "duration": 13,
    "start_time": "2023-09-09T08:07:28.166Z"
   },
   {
    "duration": 8,
    "start_time": "2023-09-09T08:08:10.030Z"
   },
   {
    "duration": 458,
    "start_time": "2023-09-09T08:08:37.836Z"
   },
   {
    "duration": 19,
    "start_time": "2023-09-09T08:08:52.994Z"
   },
   {
    "duration": 10,
    "start_time": "2023-09-09T08:09:40.068Z"
   },
   {
    "duration": 64,
    "start_time": "2023-09-09T08:10:13.321Z"
   },
   {
    "duration": 414,
    "start_time": "2023-09-09T08:10:18.658Z"
   },
   {
    "duration": 380,
    "start_time": "2023-09-09T08:12:03.846Z"
   },
   {
    "duration": 10,
    "start_time": "2023-09-09T08:19:25.239Z"
   },
   {
    "duration": 13,
    "start_time": "2023-09-09T08:19:27.149Z"
   },
   {
    "duration": 4,
    "start_time": "2023-09-09T08:23:01.180Z"
   },
   {
    "duration": 15,
    "start_time": "2023-09-09T08:23:21.316Z"
   },
   {
    "duration": 94,
    "start_time": "2023-09-09T08:23:33.653Z"
   },
   {
    "duration": 89,
    "start_time": "2023-09-09T08:24:30.643Z"
   },
   {
    "duration": 114,
    "start_time": "2023-09-09T08:24:41.052Z"
   },
   {
    "duration": 6,
    "start_time": "2023-09-09T08:24:48.524Z"
   },
   {
    "duration": 111,
    "start_time": "2023-09-09T08:24:59.437Z"
   },
   {
    "duration": 91,
    "start_time": "2023-09-09T08:25:24.897Z"
   },
   {
    "duration": 100,
    "start_time": "2023-09-09T08:25:57.990Z"
   },
   {
    "duration": 8,
    "start_time": "2023-09-09T08:31:44.662Z"
   },
   {
    "duration": 10,
    "start_time": "2023-09-09T08:33:43.808Z"
   },
   {
    "duration": 13,
    "start_time": "2023-09-09T08:34:58.354Z"
   },
   {
    "duration": 6,
    "start_time": "2023-09-09T08:35:25.719Z"
   },
   {
    "duration": 8,
    "start_time": "2023-09-09T08:35:33.465Z"
   },
   {
    "duration": 5,
    "start_time": "2023-09-09T08:36:29.368Z"
   },
   {
    "duration": 11,
    "start_time": "2023-09-09T08:36:32.787Z"
   },
   {
    "duration": 12,
    "start_time": "2023-09-09T08:36:49.353Z"
   },
   {
    "duration": 23,
    "start_time": "2023-09-09T08:37:14.942Z"
   },
   {
    "duration": 17,
    "start_time": "2023-09-09T08:37:36.279Z"
   },
   {
    "duration": 5,
    "start_time": "2023-09-09T08:38:02.141Z"
   },
   {
    "duration": 17,
    "start_time": "2023-09-09T08:38:03.653Z"
   },
   {
    "duration": 22,
    "start_time": "2023-09-09T08:38:12.186Z"
   },
   {
    "duration": 22,
    "start_time": "2023-09-09T08:38:19.514Z"
   },
   {
    "duration": 9,
    "start_time": "2023-09-09T08:40:45.124Z"
   },
   {
    "duration": 23,
    "start_time": "2023-09-09T08:51:30.224Z"
   },
   {
    "duration": 15,
    "start_time": "2023-09-09T08:52:00.430Z"
   },
   {
    "duration": 339,
    "start_time": "2023-09-09T08:54:01.980Z"
   },
   {
    "duration": 917,
    "start_time": "2023-09-09T08:54:15.617Z"
   },
   {
    "duration": 9,
    "start_time": "2023-09-09T08:55:30.952Z"
   },
   {
    "duration": 5,
    "start_time": "2023-09-09T08:55:37.266Z"
   },
   {
    "duration": 7,
    "start_time": "2023-09-09T08:56:13.291Z"
   },
   {
    "duration": 3,
    "start_time": "2023-09-09T08:58:10.728Z"
   },
   {
    "duration": 7,
    "start_time": "2023-09-09T08:58:20.842Z"
   },
   {
    "duration": 5,
    "start_time": "2023-09-09T08:58:34.706Z"
   },
   {
    "duration": 7,
    "start_time": "2023-09-09T08:58:52.423Z"
   },
   {
    "duration": 8,
    "start_time": "2023-09-09T08:59:08.034Z"
   },
   {
    "duration": 7,
    "start_time": "2023-09-09T08:59:22.616Z"
   },
   {
    "duration": 8,
    "start_time": "2023-09-09T09:36:09.769Z"
   },
   {
    "duration": 10,
    "start_time": "2023-09-09T09:36:10.593Z"
   },
   {
    "duration": 10,
    "start_time": "2023-09-09T09:36:11.609Z"
   },
   {
    "duration": 152,
    "start_time": "2023-09-09T09:36:12.766Z"
   },
   {
    "duration": 5,
    "start_time": "2023-09-09T09:36:13.724Z"
   },
   {
    "duration": 6,
    "start_time": "2023-09-09T09:36:18.083Z"
   },
   {
    "duration": 4,
    "start_time": "2023-09-09T09:36:20.020Z"
   },
   {
    "duration": 25,
    "start_time": "2023-09-09T09:36:21.336Z"
   },
   {
    "duration": 11,
    "start_time": "2023-09-09T09:36:22.502Z"
   },
   {
    "duration": 2229,
    "start_time": "2023-09-09T10:26:52.725Z"
   },
   {
    "duration": 87,
    "start_time": "2023-09-09T10:26:54.956Z"
   },
   {
    "duration": 50,
    "start_time": "2023-09-09T10:26:55.045Z"
   },
   {
    "duration": 438,
    "start_time": "2023-09-09T10:26:55.096Z"
   },
   {
    "duration": 11,
    "start_time": "2023-09-09T10:26:55.536Z"
   },
   {
    "duration": 9,
    "start_time": "2023-09-09T10:26:55.549Z"
   },
   {
    "duration": 90,
    "start_time": "2023-09-09T10:26:55.560Z"
   },
   {
    "duration": 99,
    "start_time": "2023-09-09T10:26:55.652Z"
   },
   {
    "duration": 98,
    "start_time": "2023-09-09T10:26:55.752Z"
   },
   {
    "duration": 101,
    "start_time": "2023-09-09T10:26:55.853Z"
   },
   {
    "duration": 8,
    "start_time": "2023-09-09T10:26:55.955Z"
   },
   {
    "duration": 1993,
    "start_time": "2023-09-09T10:54:30.108Z"
   },
   {
    "duration": 29,
    "start_time": "2023-09-09T10:54:32.103Z"
   },
   {
    "duration": 52,
    "start_time": "2023-09-09T10:54:32.134Z"
   },
   {
    "duration": 387,
    "start_time": "2023-09-09T10:54:32.188Z"
   },
   {
    "duration": 7,
    "start_time": "2023-09-09T10:54:32.576Z"
   },
   {
    "duration": 11,
    "start_time": "2023-09-09T10:54:32.586Z"
   },
   {
    "duration": 12,
    "start_time": "2023-09-09T10:54:32.643Z"
   },
   {
    "duration": 90,
    "start_time": "2023-09-09T10:54:32.656Z"
   },
   {
    "duration": 5,
    "start_time": "2023-09-09T10:54:32.749Z"
   },
   {
    "duration": 100,
    "start_time": "2023-09-09T10:54:32.756Z"
   },
   {
    "duration": 8,
    "start_time": "2023-09-09T10:54:32.858Z"
   },
   {
    "duration": 43,
    "start_time": "2023-09-09T17:59:30.892Z"
   },
   {
    "duration": 1482,
    "start_time": "2023-09-09T17:59:41.366Z"
   },
   {
    "duration": 87,
    "start_time": "2023-09-09T17:59:44.240Z"
   },
   {
    "duration": 55,
    "start_time": "2023-09-09T17:59:45.861Z"
   },
   {
    "duration": 72,
    "start_time": "2023-09-09T17:59:53.675Z"
   },
   {
    "duration": 10,
    "start_time": "2023-09-09T18:00:02.323Z"
   },
   {
    "duration": 3133,
    "start_time": "2023-09-09T18:00:08.905Z"
   },
   {
    "duration": 10,
    "start_time": "2023-09-09T18:07:19.096Z"
   },
   {
    "duration": 9,
    "start_time": "2023-09-09T18:07:27.178Z"
   },
   {
    "duration": 9,
    "start_time": "2023-09-09T18:07:28.220Z"
   },
   {
    "duration": 13,
    "start_time": "2023-09-09T18:07:29.157Z"
   },
   {
    "duration": 5,
    "start_time": "2023-09-09T18:07:30.486Z"
   },
   {
    "duration": 4,
    "start_time": "2023-09-09T18:07:32.927Z"
   },
   {
    "duration": 20,
    "start_time": "2023-09-09T18:07:33.912Z"
   },
   {
    "duration": 8,
    "start_time": "2023-09-09T18:07:35.117Z"
   },
   {
    "duration": 9,
    "start_time": "2023-09-09T18:08:07.912Z"
   },
   {
    "duration": 7,
    "start_time": "2023-09-09T18:08:33.752Z"
   },
   {
    "duration": 10,
    "start_time": "2023-09-09T18:08:51.524Z"
   },
   {
    "duration": 3,
    "start_time": "2023-09-09T18:42:49.397Z"
   },
   {
    "duration": 28,
    "start_time": "2023-09-09T18:42:50.203Z"
   },
   {
    "duration": 43,
    "start_time": "2023-09-09T18:42:50.939Z"
   },
   {
    "duration": 3297,
    "start_time": "2023-09-09T18:42:52.274Z"
   },
   {
    "duration": 8,
    "start_time": "2023-09-09T18:43:15.628Z"
   },
   {
    "duration": 10,
    "start_time": "2023-09-09T18:43:34.728Z"
   },
   {
    "duration": 8,
    "start_time": "2023-09-09T18:44:05.421Z"
   },
   {
    "duration": 6,
    "start_time": "2023-09-09T18:44:34.049Z"
   },
   {
    "duration": 25,
    "start_time": "2023-09-09T18:44:55.022Z"
   },
   {
    "duration": 9,
    "start_time": "2023-09-09T18:45:01.009Z"
   },
   {
    "duration": 11,
    "start_time": "2023-09-09T18:48:43.898Z"
   },
   {
    "duration": 12,
    "start_time": "2023-09-09T18:48:57.029Z"
   },
   {
    "duration": 13,
    "start_time": "2023-09-09T18:49:38.348Z"
   },
   {
    "duration": 4,
    "start_time": "2023-09-09T18:49:53.757Z"
   },
   {
    "duration": 13,
    "start_time": "2023-09-09T18:53:18.135Z"
   },
   {
    "duration": 7,
    "start_time": "2023-09-09T18:53:56.304Z"
   },
   {
    "duration": 8,
    "start_time": "2023-09-09T18:53:58.244Z"
   },
   {
    "duration": 8,
    "start_time": "2023-09-09T18:53:59.561Z"
   },
   {
    "duration": 6,
    "start_time": "2023-09-09T18:54:00.947Z"
   },
   {
    "duration": 3,
    "start_time": "2023-09-09T18:54:03.875Z"
   },
   {
    "duration": 19,
    "start_time": "2023-09-09T18:54:05.899Z"
   },
   {
    "duration": 8,
    "start_time": "2023-09-09T18:54:08.337Z"
   },
   {
    "duration": 9,
    "start_time": "2023-09-09T18:58:13.015Z"
   },
   {
    "duration": 11,
    "start_time": "2023-09-09T18:58:14.235Z"
   },
   {
    "duration": 9,
    "start_time": "2023-09-09T18:58:15.460Z"
   },
   {
    "duration": 6,
    "start_time": "2023-09-09T18:58:19.117Z"
   },
   {
    "duration": 7,
    "start_time": "2023-09-09T19:01:35.994Z"
   },
   {
    "duration": 21,
    "start_time": "2023-09-09T19:01:39.968Z"
   },
   {
    "duration": 8,
    "start_time": "2023-09-09T19:01:46.581Z"
   },
   {
    "duration": 6094,
    "start_time": "2023-09-09T19:03:38.697Z"
   },
   {
    "duration": 7080,
    "start_time": "2023-09-09T19:04:09.134Z"
   },
   {
    "duration": 7209,
    "start_time": "2023-09-09T19:04:31.015Z"
   },
   {
    "duration": 4,
    "start_time": "2023-09-09T19:09:36.818Z"
   },
   {
    "duration": 18,
    "start_time": "2023-09-09T19:09:38.760Z"
   },
   {
    "duration": 9,
    "start_time": "2023-09-09T19:09:46.931Z"
   },
   {
    "duration": 8,
    "start_time": "2023-09-09T19:12:13.577Z"
   },
   {
    "duration": 8,
    "start_time": "2023-09-09T19:12:23.903Z"
   },
   {
    "duration": 7,
    "start_time": "2023-09-09T19:12:30.656Z"
   },
   {
    "duration": 8,
    "start_time": "2023-09-09T19:12:35.472Z"
   },
   {
    "duration": 11,
    "start_time": "2023-09-09T19:12:40.624Z"
   },
   {
    "duration": 9,
    "start_time": "2023-09-09T19:13:32.303Z"
   },
   {
    "duration": 8,
    "start_time": "2023-09-09T19:14:00.053Z"
   },
   {
    "duration": 8,
    "start_time": "2023-09-09T19:14:27.184Z"
   },
   {
    "duration": 6,
    "start_time": "2023-09-09T19:16:30.441Z"
   },
   {
    "duration": 4,
    "start_time": "2023-09-09T19:16:38.734Z"
   },
   {
    "duration": 7,
    "start_time": "2023-09-09T19:16:47.499Z"
   },
   {
    "duration": 3120,
    "start_time": "2023-09-09T19:57:05.182Z"
   },
   {
    "duration": 107,
    "start_time": "2023-09-09T19:57:08.304Z"
   },
   {
    "duration": 74,
    "start_time": "2023-09-09T19:57:08.413Z"
   },
   {
    "duration": 10483,
    "start_time": "2023-09-09T19:57:08.490Z"
   },
   {
    "duration": 9,
    "start_time": "2023-09-09T19:57:18.975Z"
   },
   {
    "duration": 192,
    "start_time": "2023-09-09T19:57:18.985Z"
   },
   {
    "duration": 289,
    "start_time": "2023-09-09T19:57:19.179Z"
   },
   {
    "duration": 170,
    "start_time": "2023-09-09T19:57:19.473Z"
   },
   {
    "duration": 8,
    "start_time": "2023-09-09T19:57:19.675Z"
   },
   {
    "duration": 105,
    "start_time": "2023-09-09T19:57:19.684Z"
   },
   {
    "duration": 12,
    "start_time": "2023-09-09T19:57:19.791Z"
   }
  ],
  "kernelspec": {
   "display_name": "Python 3 (ipykernel)",
   "language": "python",
   "name": "python3"
  },
  "language_info": {
   "codemirror_mode": {
    "name": "ipython",
    "version": 3
   },
   "file_extension": ".py",
   "mimetype": "text/x-python",
   "name": "python",
   "nbconvert_exporter": "python",
   "pygments_lexer": "ipython3",
   "version": "3.10.11"
  },
  "toc": {
   "base_numbering": 1,
   "nav_menu": {},
   "number_sections": true,
   "sideBar": true,
   "skip_h1_title": true,
   "title_cell": "Содержание",
   "title_sidebar": "Contents",
   "toc_cell": true,
   "toc_position": {},
   "toc_section_display": true,
   "toc_window_display": true
  }
 },
 "nbformat": 4,
 "nbformat_minor": 4
}
