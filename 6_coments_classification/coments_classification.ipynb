{
 "cells": [
  {
   "cell_type": "markdown",
   "metadata": {},
   "source": [
    "# Классификация комментариев"
   ]
  },
  {
   "cell_type": "markdown",
   "metadata": {},
   "source": [
    "## Подготовка"
   ]
  },
  {
   "cell_type": "code",
   "execution_count": 1,
   "metadata": {},
   "outputs": [],
   "source": [
    "import pandas as pd\n",
    "import numpy as np\n",
    "from tqdm import tqdm\n",
    "import re\n",
    "import nltk\n",
    "from nltk.stem import WordNetLemmatizer\n",
    "from pymystem3 import Mystem\n",
    "from nltk.corpus import stopwords as nltk_stopwords\n",
    "from sklearn.feature_extraction.text import TfidfVectorizer\n",
    "from sklearn.model_selection import train_test_split, cross_val_score, GridSearchCV\n",
    "from sklearn.linear_model import LogisticRegression\n",
    "from sklearn.ensemble import RandomForestClassifier\n",
    "from sklearn.tree import DecisionTreeClassifier\n",
    "from sklearn.metrics import f1_score\n",
    "from sklearn.utils import shuffle\n",
    "import warnings\n",
    "warnings.filterwarnings('ignore')"
   ]
  },
  {
   "cell_type": "code",
   "execution_count": 2,
   "metadata": {},
   "outputs": [],
   "source": [
    "try: df = pd.read_csv('/datasets/toxic_comments.csv')\n",
    "except: df = pd.read_csv('C:/Documents/datasets/toxic_comments.csv')"
   ]
  },
  {
   "cell_type": "code",
   "execution_count": 3,
   "metadata": {
    "scrolled": true
   },
   "outputs": [
    {
     "data": {
      "text/html": [
       "<div>\n",
       "<style scoped>\n",
       "    .dataframe tbody tr th:only-of-type {\n",
       "        vertical-align: middle;\n",
       "    }\n",
       "\n",
       "    .dataframe tbody tr th {\n",
       "        vertical-align: top;\n",
       "    }\n",
       "\n",
       "    .dataframe thead th {\n",
       "        text-align: right;\n",
       "    }\n",
       "</style>\n",
       "<table border=\"1\" class=\"dataframe\">\n",
       "  <thead>\n",
       "    <tr style=\"text-align: right;\">\n",
       "      <th></th>\n",
       "      <th>Unnamed: 0</th>\n",
       "      <th>text</th>\n",
       "      <th>toxic</th>\n",
       "    </tr>\n",
       "  </thead>\n",
       "  <tbody>\n",
       "    <tr>\n",
       "      <th>0</th>\n",
       "      <td>0</td>\n",
       "      <td>Explanation\\nWhy the edits made under my usern...</td>\n",
       "      <td>0</td>\n",
       "    </tr>\n",
       "    <tr>\n",
       "      <th>1</th>\n",
       "      <td>1</td>\n",
       "      <td>D'aww! He matches this background colour I'm s...</td>\n",
       "      <td>0</td>\n",
       "    </tr>\n",
       "    <tr>\n",
       "      <th>2</th>\n",
       "      <td>2</td>\n",
       "      <td>Hey man, I'm really not trying to edit war. It...</td>\n",
       "      <td>0</td>\n",
       "    </tr>\n",
       "    <tr>\n",
       "      <th>3</th>\n",
       "      <td>3</td>\n",
       "      <td>\"\\nMore\\nI can't make any real suggestions on ...</td>\n",
       "      <td>0</td>\n",
       "    </tr>\n",
       "    <tr>\n",
       "      <th>4</th>\n",
       "      <td>4</td>\n",
       "      <td>You, sir, are my hero. Any chance you remember...</td>\n",
       "      <td>0</td>\n",
       "    </tr>\n",
       "    <tr>\n",
       "      <th>...</th>\n",
       "      <td>...</td>\n",
       "      <td>...</td>\n",
       "      <td>...</td>\n",
       "    </tr>\n",
       "    <tr>\n",
       "      <th>159287</th>\n",
       "      <td>159446</td>\n",
       "      <td>\":::::And for the second time of asking, when ...</td>\n",
       "      <td>0</td>\n",
       "    </tr>\n",
       "    <tr>\n",
       "      <th>159288</th>\n",
       "      <td>159447</td>\n",
       "      <td>You should be ashamed of yourself \\n\\nThat is ...</td>\n",
       "      <td>0</td>\n",
       "    </tr>\n",
       "    <tr>\n",
       "      <th>159289</th>\n",
       "      <td>159448</td>\n",
       "      <td>Spitzer \\n\\nUmm, theres no actual article for ...</td>\n",
       "      <td>0</td>\n",
       "    </tr>\n",
       "    <tr>\n",
       "      <th>159290</th>\n",
       "      <td>159449</td>\n",
       "      <td>And it looks like it was actually you who put ...</td>\n",
       "      <td>0</td>\n",
       "    </tr>\n",
       "    <tr>\n",
       "      <th>159291</th>\n",
       "      <td>159450</td>\n",
       "      <td>\"\\nAnd ... I really don't think you understand...</td>\n",
       "      <td>0</td>\n",
       "    </tr>\n",
       "  </tbody>\n",
       "</table>\n",
       "<p>159292 rows × 3 columns</p>\n",
       "</div>"
      ],
      "text/plain": [
       "        Unnamed: 0                                               text  toxic\n",
       "0                0  Explanation\\nWhy the edits made under my usern...      0\n",
       "1                1  D'aww! He matches this background colour I'm s...      0\n",
       "2                2  Hey man, I'm really not trying to edit war. It...      0\n",
       "3                3  \"\\nMore\\nI can't make any real suggestions on ...      0\n",
       "4                4  You, sir, are my hero. Any chance you remember...      0\n",
       "...            ...                                                ...    ...\n",
       "159287      159446  \":::::And for the second time of asking, when ...      0\n",
       "159288      159447  You should be ashamed of yourself \\n\\nThat is ...      0\n",
       "159289      159448  Spitzer \\n\\nUmm, theres no actual article for ...      0\n",
       "159290      159449  And it looks like it was actually you who put ...      0\n",
       "159291      159450  \"\\nAnd ... I really don't think you understand...      0\n",
       "\n",
       "[159292 rows x 3 columns]"
      ]
     },
     "metadata": {},
     "output_type": "display_data"
    },
    {
     "name": "stdout",
     "output_type": "stream",
     "text": [
      "<class 'pandas.core.frame.DataFrame'>\n",
      "RangeIndex: 159292 entries, 0 to 159291\n",
      "Data columns (total 3 columns):\n",
      " #   Column      Non-Null Count   Dtype \n",
      "---  ------      --------------   ----- \n",
      " 0   Unnamed: 0  159292 non-null  int64 \n",
      " 1   text        159292 non-null  object\n",
      " 2   toxic       159292 non-null  int64 \n",
      "dtypes: int64(2), object(1)\n",
      "memory usage: 3.6+ MB\n"
     ]
    },
    {
     "data": {
      "text/html": [
       "<div>\n",
       "<style scoped>\n",
       "    .dataframe tbody tr th:only-of-type {\n",
       "        vertical-align: middle;\n",
       "    }\n",
       "\n",
       "    .dataframe tbody tr th {\n",
       "        vertical-align: top;\n",
       "    }\n",
       "\n",
       "    .dataframe thead th {\n",
       "        text-align: right;\n",
       "    }\n",
       "</style>\n",
       "<table border=\"1\" class=\"dataframe\">\n",
       "  <thead>\n",
       "    <tr style=\"text-align: right;\">\n",
       "      <th></th>\n",
       "      <th>Unnamed: 0</th>\n",
       "      <th>toxic</th>\n",
       "    </tr>\n",
       "  </thead>\n",
       "  <tbody>\n",
       "    <tr>\n",
       "      <th>count</th>\n",
       "      <td>159292.000000</td>\n",
       "      <td>159292.000000</td>\n",
       "    </tr>\n",
       "    <tr>\n",
       "      <th>mean</th>\n",
       "      <td>79725.697242</td>\n",
       "      <td>0.101612</td>\n",
       "    </tr>\n",
       "    <tr>\n",
       "      <th>std</th>\n",
       "      <td>46028.837471</td>\n",
       "      <td>0.302139</td>\n",
       "    </tr>\n",
       "    <tr>\n",
       "      <th>min</th>\n",
       "      <td>0.000000</td>\n",
       "      <td>0.000000</td>\n",
       "    </tr>\n",
       "    <tr>\n",
       "      <th>25%</th>\n",
       "      <td>39872.750000</td>\n",
       "      <td>0.000000</td>\n",
       "    </tr>\n",
       "    <tr>\n",
       "      <th>50%</th>\n",
       "      <td>79721.500000</td>\n",
       "      <td>0.000000</td>\n",
       "    </tr>\n",
       "    <tr>\n",
       "      <th>75%</th>\n",
       "      <td>119573.250000</td>\n",
       "      <td>0.000000</td>\n",
       "    </tr>\n",
       "    <tr>\n",
       "      <th>max</th>\n",
       "      <td>159450.000000</td>\n",
       "      <td>1.000000</td>\n",
       "    </tr>\n",
       "  </tbody>\n",
       "</table>\n",
       "</div>"
      ],
      "text/plain": [
       "          Unnamed: 0          toxic\n",
       "count  159292.000000  159292.000000\n",
       "mean    79725.697242       0.101612\n",
       "std     46028.837471       0.302139\n",
       "min         0.000000       0.000000\n",
       "25%     39872.750000       0.000000\n",
       "50%     79721.500000       0.000000\n",
       "75%    119573.250000       0.000000\n",
       "max    159450.000000       1.000000"
      ]
     },
     "execution_count": 3,
     "metadata": {},
     "output_type": "execute_result"
    }
   ],
   "source": [
    "display(df)\n",
    "df.info()\n",
    "df.describe()"
   ]
  },
  {
   "cell_type": "code",
   "execution_count": 4,
   "metadata": {
    "scrolled": true
   },
   "outputs": [
    {
     "data": {
      "text/plain": [
       "0    143106\n",
       "1     16186\n",
       "Name: toxic, dtype: int64"
      ]
     },
     "execution_count": 4,
     "metadata": {},
     "output_type": "execute_result"
    }
   ],
   "source": [
    "df['toxic'].value_counts()"
   ]
  },
  {
   "cell_type": "code",
   "execution_count": 5,
   "metadata": {
    "scrolled": true
   },
   "outputs": [],
   "source": [
    "df = df.drop('Unnamed: 0', axis=1)"
   ]
  },
  {
   "cell_type": "code",
   "execution_count": 6,
   "metadata": {},
   "outputs": [],
   "source": [
    "lemmatizer = WordNetLemmatizer()\n",
    "\n",
    "def lemmatize_text(text):\n",
    "    text = text.lower()\n",
    "    cleared_text = re.sub(r'[^a-zA-Z]', ' ', text) \n",
    "    clear_text = \" \".join(cleared_text.split())\n",
    "    return \"\".join(lemmatizer.lemmatize(clear_text))\n",
    "\n",
    "df['text'] = df['text'].apply(lemmatize_text)"
   ]
  },
  {
   "cell_type": "code",
   "execution_count": 7,
   "metadata": {},
   "outputs": [],
   "source": [
    "target = df['toxic']\n",
    "features = df.drop('toxic', axis=1)\n",
    "\n",
    "features_train, features_test, target_train, target_test = train_test_split(features, target, \n",
    "                                                                           test_size=0.25, random_state=12345,\n",
    "                                                                           stratify = target)"
   ]
  },
  {
   "cell_type": "code",
   "execution_count": 8,
   "metadata": {},
   "outputs": [
    {
     "name": "stderr",
     "output_type": "stream",
     "text": [
      "[nltk_data] Downloading package stopwords to /home/jovyan/nltk_data...\n",
      "[nltk_data]   Package stopwords is already up-to-date!\n"
     ]
    },
    {
     "name": "stdout",
     "output_type": "stream",
     "text": [
      "(119469, 142639)\n",
      "(39823, 142639)\n"
     ]
    }
   ],
   "source": [
    "nltk.download('stopwords')\n",
    "stopwords = set(nltk_stopwords.words('english'))\n",
    "\n",
    "count_tf_idf = TfidfVectorizer(stop_words=stopwords)\n",
    "\n",
    "features_train = count_tf_idf.fit_transform(features_train['text'])\n",
    "features_test = count_tf_idf.transform(features_test['text'])\n",
    "print(features_train.shape)\n",
    "print(features_test.shape)"
   ]
  },
  {
   "cell_type": "markdown",
   "metadata": {},
   "source": [
    "## Обучение"
   ]
  },
  {
   "cell_type": "code",
   "execution_count": 9,
   "metadata": {},
   "outputs": [
    {
     "name": "stdout",
     "output_type": "stream",
     "text": [
      "Лучшие параметры: {'C': 10, 'solver': 'newton-cg'}\n",
      "Лучшее значение f1 при лучших параметрах: 0.7661716245114881\n",
      "Среднее качество модели Логистической регрессии на кросс-валидации: 0.7485568753878408\n"
     ]
    }
   ],
   "source": [
    "regression = LogisticRegression(class_weight='balanced', random_state=12345)\n",
    "\n",
    "regression_parametrs = {'C': [0.1, 1, 10],\n",
    "                        'solver': ['newton-cg', 'lbfgs', 'liblinear']\n",
    "                       }\n",
    "\n",
    "regression_grid = GridSearchCV(regression, regression_parametrs, scoring='f1', cv=3)\n",
    "regression_grid.fit(features_train, target_train)\n",
    "\n",
    "\n",
    "print('Лучшие параметры:', regression_grid.best_params_)\n",
    "print('Лучшее значение f1 при лучших параметрах:', regression_grid.best_score_)\n",
    "\n",
    "regression.fit(features_train, target_train)\n",
    "regression_cv_score = cross_val_score(regression, features_train, target_train, scoring='f1',cv=3).mean()\n",
    "print('Среднее качество модели Логистической регрессии на кросс-валидации:', regression_cv_score)"
   ]
  },
  {
   "cell_type": "code",
   "execution_count": 10,
   "metadata": {},
   "outputs": [
    {
     "name": "stdout",
     "output_type": "stream",
     "text": [
      "Лучшие параметры: {'max_depth': 6, 'n_estimators': 55}\n",
      "Лучшее значение f1 при лучших параметрах: 0.35701332050042406\n"
     ]
    }
   ],
   "source": [
    "forest = RandomForestClassifier(class_weight='balanced', n_jobs=-1)\n",
    "\n",
    "forest_parametrs = { 'n_estimators': range(50, 80, 5),\n",
    "                     'max_depth': range(4, 8, 2)}\n",
    "\n",
    "forest_grid = GridSearchCV(forest, forest_parametrs, scoring='f1', cv=3)\n",
    "forest_grid.fit(features_train, target_train)\n",
    "\n",
    "print('Лучшие параметры:', forest_grid.best_params_)\n",
    "print('Лучшее значение f1 при лучших параметрах:', forest_grid.best_score_)"
   ]
  },
  {
   "cell_type": "code",
   "execution_count": 11,
   "metadata": {},
   "outputs": [
    {
     "name": "stdout",
     "output_type": "stream",
     "text": [
      "Лучшие параметры: {'max_depth': 75}\n",
      "Лучшее значение f1 при лучших параметрах: 0.6270453799865565\n"
     ]
    }
   ],
   "source": [
    "tree = DecisionTreeClassifier(class_weight='balanced', random_state=12345)\n",
    "\n",
    "tree_parametrs = {'max_depth':[x for x in range(50, 80, 5)]}\n",
    "\n",
    "\n",
    "tree_grid = GridSearchCV(tree, tree_parametrs, scoring='f1', cv=3)\n",
    "tree_grid.fit(features_train, target_train)\n",
    "\n",
    "print('Лучшие параметры:', tree_grid.best_params_)\n",
    "print('Лучшее значение f1 при лучших параметрах:', tree_grid.best_score_)"
   ]
  },
  {
   "cell_type": "code",
   "execution_count": 12,
   "metadata": {},
   "outputs": [
    {
     "name": "stdout",
     "output_type": "stream",
     "text": [
      "Значение f1 на тестоых данных при лучших параметрах лучшей модели: 0.77043255217442\n"
     ]
    }
   ],
   "source": [
    "regression_best = LogisticRegression(class_weight='balanced', random_state=12345, C=10, solver= 'newton-cg')\n",
    "regression_best.fit(features_train, target_train)\n",
    "print('Значение f1 на тестоых данных при лучших параметрах лучшей модели:', f1_score(target_test, \n",
    "                                                                             regression_best.predict(features_test)))"
   ]
  }
 ],
 "metadata": {
  "ExecuteTimeLog": [
   {
    "duration": 459,
    "start_time": "2023-10-13T15:35:11.316Z"
   },
   {
    "duration": 2684,
    "start_time": "2023-10-13T15:36:02.192Z"
   },
   {
    "duration": 100,
    "start_time": "2023-10-13T15:36:22.271Z"
   },
   {
    "duration": 79,
    "start_time": "2023-10-13T15:36:37.316Z"
   },
   {
    "duration": 6,
    "start_time": "2023-10-13T15:38:08.001Z"
   },
   {
    "duration": 18,
    "start_time": "2023-10-13T15:38:59.786Z"
   },
   {
    "duration": 14,
    "start_time": "2023-10-13T15:39:05.706Z"
   },
   {
    "duration": 10,
    "start_time": "2023-10-13T15:39:22.743Z"
   },
   {
    "duration": 6,
    "start_time": "2023-10-13T15:40:23.242Z"
   },
   {
    "duration": 9,
    "start_time": "2023-10-13T15:40:34.647Z"
   },
   {
    "duration": 10,
    "start_time": "2023-10-13T15:41:06.507Z"
   },
   {
    "duration": 10,
    "start_time": "2023-10-13T15:41:14.077Z"
   },
   {
    "duration": 466,
    "start_time": "2023-10-14T07:03:38.302Z"
   },
   {
    "duration": 2553,
    "start_time": "2023-10-14T07:03:38.847Z"
   },
   {
    "duration": 67,
    "start_time": "2023-10-14T07:03:41.402Z"
   },
   {
    "duration": 6,
    "start_time": "2023-10-14T07:03:41.470Z"
   },
   {
    "duration": 43,
    "start_time": "2023-10-14T07:03:41.478Z"
   },
   {
    "duration": 28,
    "start_time": "2023-10-14T07:03:41.522Z"
   },
   {
    "duration": 80,
    "start_time": "2023-10-14T07:05:46.112Z"
   },
   {
    "duration": 771,
    "start_time": "2023-10-14T07:05:53.842Z"
   },
   {
    "duration": 1467,
    "start_time": "2023-10-14T19:54:01.327Z"
   },
   {
    "duration": 2561,
    "start_time": "2023-10-14T19:59:42.303Z"
   },
   {
    "duration": 65,
    "start_time": "2023-10-14T19:59:44.865Z"
   },
   {
    "duration": 5,
    "start_time": "2023-10-14T19:59:44.932Z"
   },
   {
    "duration": 10,
    "start_time": "2023-10-14T19:59:45.628Z"
   },
   {
    "duration": 7473,
    "start_time": "2023-10-14T19:59:54.428Z"
   },
   {
    "duration": 9,
    "start_time": "2023-10-14T20:00:07.367Z"
   },
   {
    "duration": 8,
    "start_time": "2023-10-14T20:00:26.113Z"
   },
   {
    "duration": 145,
    "start_time": "2023-10-14T20:07:46.230Z"
   },
   {
    "duration": 66,
    "start_time": "2023-10-14T20:08:25.314Z"
   },
   {
    "duration": 9,
    "start_time": "2023-10-14T20:08:30.205Z"
   },
   {
    "duration": 11631,
    "start_time": "2023-10-14T20:12:29.921Z"
   },
   {
    "duration": 10,
    "start_time": "2023-10-14T20:13:14.569Z"
   },
   {
    "duration": 13,
    "start_time": "2023-10-14T20:27:11.959Z"
   },
   {
    "duration": 98,
    "start_time": "2023-10-14T20:27:35.561Z"
   },
   {
    "duration": 11052,
    "start_time": "2023-10-14T20:27:37.076Z"
   },
   {
    "duration": 712581,
    "start_time": "2023-10-14T20:27:49.814Z"
   },
   {
    "duration": 91,
    "start_time": "2023-10-14T20:40:04.099Z"
   },
   {
    "duration": 29728,
    "start_time": "2023-10-14T20:40:21.087Z"
   },
   {
    "duration": 12,
    "start_time": "2023-10-14T20:41:09.297Z"
   },
   {
    "duration": 25,
    "start_time": "2023-10-14T20:41:35.361Z"
   },
   {
    "duration": 13,
    "start_time": "2023-10-14T20:42:00.168Z"
   },
   {
    "duration": 65927,
    "start_time": "2023-10-14T20:42:10.537Z"
   },
   {
    "duration": 23,
    "start_time": "2023-10-14T20:43:41.845Z"
   },
   {
    "duration": 1119,
    "start_time": "2023-10-14T20:44:07.837Z"
   },
   {
    "duration": 3,
    "start_time": "2023-10-14T20:46:14.132Z"
   },
   {
    "duration": 10,
    "start_time": "2023-10-14T20:48:38.801Z"
   },
   {
    "duration": 780160,
    "start_time": "2023-10-14T20:48:50.994Z"
   },
   {
    "duration": 238103,
    "start_time": "2023-10-14T21:01:56.177Z"
   },
   {
    "duration": 1160,
    "start_time": "2023-10-14T21:05:54.292Z"
   },
   {
    "duration": 730099,
    "start_time": "2023-10-14T21:05:55.457Z"
   },
   {
    "duration": 16,
    "start_time": "2023-10-14T21:18:05.567Z"
   },
   {
    "duration": 0,
    "start_time": "2023-10-14T21:18:05.585Z"
   },
   {
    "duration": 61211,
    "start_time": "2023-10-14T21:25:50.105Z"
   },
   {
    "duration": 1951,
    "start_time": "2023-10-14T21:26:51.317Z"
   },
   {
    "duration": 96,
    "start_time": "2023-10-15T11:17:43.544Z"
   },
   {
    "duration": 1802,
    "start_time": "2023-10-15T11:28:05.519Z"
   },
   {
    "duration": 2289,
    "start_time": "2023-10-15T11:28:09.078Z"
   },
   {
    "duration": 63,
    "start_time": "2023-10-15T11:28:12.252Z"
   },
   {
    "duration": 6,
    "start_time": "2023-10-15T11:28:13.407Z"
   },
   {
    "duration": 12,
    "start_time": "2023-10-15T11:28:15.870Z"
   },
   {
    "duration": 1860,
    "start_time": "2023-10-15T11:28:16.662Z"
   },
   {
    "duration": 387,
    "start_time": "2023-10-15T11:28:40.270Z"
   },
   {
    "duration": 541,
    "start_time": "2023-10-15T11:28:56.636Z"
   },
   {
    "duration": 5956,
    "start_time": "2023-10-15T11:29:11.224Z"
   },
   {
    "duration": 17,
    "start_time": "2023-10-15T11:33:31.291Z"
   },
   {
    "duration": 171,
    "start_time": "2023-10-15T11:35:02.411Z"
   },
   {
    "duration": 310,
    "start_time": "2023-10-15T11:35:42.875Z"
   },
   {
    "duration": 92,
    "start_time": "2023-10-15T11:36:02.976Z"
   },
   {
    "duration": 5,
    "start_time": "2023-10-15T11:36:33.435Z"
   },
   {
    "duration": 42,
    "start_time": "2023-10-15T11:36:59.871Z"
   },
   {
    "duration": 5,
    "start_time": "2023-10-15T11:37:35.427Z"
   },
   {
    "duration": 22,
    "start_time": "2023-10-15T11:37:41.137Z"
   },
   {
    "duration": 42,
    "start_time": "2023-10-15T11:37:49.286Z"
   },
   {
    "duration": 13,
    "start_time": "2023-10-15T11:38:35.371Z"
   },
   {
    "duration": 1068,
    "start_time": "2023-10-15T11:38:41.360Z"
   },
   {
    "duration": 16,
    "start_time": "2023-10-15T11:38:58.741Z"
   },
   {
    "duration": 41,
    "start_time": "2023-10-15T11:39:24.438Z"
   },
   {
    "duration": 4,
    "start_time": "2023-10-15T11:39:45.748Z"
   },
   {
    "duration": 866,
    "start_time": "2023-10-15T11:39:47.197Z"
   },
   {
    "duration": 56,
    "start_time": "2023-10-15T11:39:48.065Z"
   },
   {
    "duration": 7,
    "start_time": "2023-10-15T11:39:48.792Z"
   },
   {
    "duration": 14,
    "start_time": "2023-10-15T11:39:51.117Z"
   },
   {
    "duration": 242,
    "start_time": "2023-10-15T11:40:17.653Z"
   },
   {
    "duration": 153,
    "start_time": "2023-10-15T11:40:38.117Z"
   },
   {
    "duration": 137,
    "start_time": "2023-10-15T11:40:45.028Z"
   },
   {
    "duration": 273,
    "start_time": "2023-10-15T11:40:50.856Z"
   },
   {
    "duration": 6,
    "start_time": "2023-10-15T11:40:56.787Z"
   },
   {
    "duration": 6076,
    "start_time": "2023-10-15T11:41:23.119Z"
   },
   {
    "duration": 6,
    "start_time": "2023-10-15T11:41:32.797Z"
   },
   {
    "duration": 4,
    "start_time": "2023-10-15T11:42:10.333Z"
   },
   {
    "duration": 1384,
    "start_time": "2023-10-15T11:42:20.779Z"
   },
   {
    "duration": 1025,
    "start_time": "2023-10-15T11:42:22.274Z"
   },
   {
    "duration": 68,
    "start_time": "2023-10-15T11:42:23.301Z"
   },
   {
    "duration": 7,
    "start_time": "2023-10-15T11:42:23.735Z"
   },
   {
    "duration": 14,
    "start_time": "2023-10-15T11:42:24.909Z"
   },
   {
    "duration": 7970,
    "start_time": "2023-10-15T11:42:25.394Z"
   },
   {
    "duration": 67,
    "start_time": "2023-10-15T11:42:33.367Z"
   },
   {
    "duration": 8303,
    "start_time": "2023-10-15T11:42:33.436Z"
   },
   {
    "duration": 736204,
    "start_time": "2023-10-15T11:43:08.562Z"
   },
   {
    "duration": 219158,
    "start_time": "2023-10-15T11:55:24.769Z"
   },
   {
    "duration": 802126,
    "start_time": "2023-10-15T11:59:03.928Z"
   },
   {
    "duration": 33667,
    "start_time": "2023-10-15T12:12:26.057Z"
   }
  ],
  "kernelspec": {
   "display_name": "Python 3 (ipykernel)",
   "language": "python",
   "name": "python3"
  },
  "language_info": {
   "codemirror_mode": {
    "name": "ipython",
    "version": 3
   },
   "file_extension": ".py",
   "mimetype": "text/x-python",
   "name": "python",
   "nbconvert_exporter": "python",
   "pygments_lexer": "ipython3",
   "version": "3.10.11"
  },
  "toc": {
   "base_numbering": 1,
   "nav_menu": {},
   "number_sections": true,
   "sideBar": true,
   "skip_h1_title": true,
   "title_cell": "Содержание",
   "title_sidebar": "Contents",
   "toc_cell": true,
   "toc_position": {
    "height": "calc(100% - 180px)",
    "left": "10px",
    "top": "150px",
    "width": "302.391px"
   },
   "toc_section_display": true,
   "toc_window_display": false
  }
 },
 "nbformat": 4,
 "nbformat_minor": 4
}
